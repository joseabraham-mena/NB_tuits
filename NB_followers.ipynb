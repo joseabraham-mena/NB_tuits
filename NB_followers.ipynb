{
 "cells": [
  {
   "cell_type": "code",
   "execution_count": 1,
   "metadata": {},
   "outputs": [],
   "source": [
    "import tweepy\n",
    "import plotly\n",
    "import datetime\n",
    "\n",
    "import matplotlib as plt\n",
    "import pandas as pd\n",
    "import matplotlib.pyplot as plt \n",
    "import plotly.express as px\n",
    "import plotly.graph_objects as go\n",
    "\n",
    "from plotly.subplots import make_subplots\n",
    "from datetime import timedelta"
   ]
  },
  {
   "cell_type": "code",
   "execution_count": 9,
   "metadata": {},
   "outputs": [],
   "source": [
    "# Keys\n",
    "access_token = '1258532548134797313-w24ae6Fc7uIHO0jXk40akPLrFfUvMW'\n",
    "\n",
    "access_token_secret = 'L8PwULD3RHMYHnxc7cJlvZSYtXTQORc0ElEFIfL1S7V21'\n",
    "\n",
    "consumer_key = 'YuJdN38YPbdwFJpAUooTHhGbh'\n",
    "\n",
    "consumer_key_secret = 'IOzsqk0Vly9Y90xhXqXQqQ1tsyLS11zgVTjGnpdMTkYJzKH2Dl'\n",
    "\n",
    "# Start the API \n",
    "auth = tweepy.OAuthHandler(consumer_key,consumer_key_secret)\n",
    "auth.set_access_token(access_token,access_token_secret)\n",
    "api = tweepy.API(auth, wait_on_rate_limit=True,wait_on_rate_limit_notify=True, compression=True)"
   ]
  },
  {
   "cell_type": "code",
   "execution_count": 24,
   "metadata": {
    "tags": []
   },
   "outputs": [
    {
     "output_type": "stream",
     "name": "stderr",
     "text": "Rate limit reached. Sleeping for: 894\n"
    }
   ],
   "source": [
    "# Grab NB users\n",
    "GG_followers = api.followers_ids('GGallegos24')\n",
    "\n",
    "followers_list = []\n",
    "\n",
    "# Grab NB followers and their data\n",
    "for f in tweepy.Cursor(api.followers,screen_name = 'GGallegos24').items():\n",
    "    try:\n",
    "        # Create dictionary for specific follower and save data in there\n",
    "        follower = {}\n",
    "        follower['id'] = f.id\n",
    "        follower['created_at'] = f.created_at\n",
    "        follower['screen_name'] = str(f.screen_name)\n",
    "        follower['description'] = str(f.description)\n",
    "        follower['follower_count'] = int(f.followers_count)\n",
    "        follower['following_count'] = int(f.friends_count)\n",
    "        follower['favorites_count'] = int(f.favourites_count)\n",
    "        follower['tweet_count'] = int(f.statuses_count)\n",
    "\n",
    "    except:\n",
    "        pass\n",
    "    # Append user data to list\n",
    "    followers_list.append(follower)\n"
   ]
  },
  {
   "cell_type": "code",
   "execution_count": 16,
   "metadata": {
    "tags": []
   },
   "outputs": [
    {
     "output_type": "stream",
     "name": "stdout",
     "text": "id          created_at      screen_name  \\\n0  1138142884857671682 2019-06-10 17:56:24  CarlosE05389219   \n1  1274749535437434883 2020-06-21 17:02:40   Gladys83191712   \n2  1144452045912457216 2019-06-28 03:46:45   Flores71398267   \n3  1240516725814288384 2020-03-19 05:53:40     Melissa56788   \n4  1274806607885430784 2020-06-21 20:49:33  William06148787   \n\n            description  follower_count  following_count  favorites_count  \\\n0      Fun and original               3               26              646   \n1      La vida es bella               1               15                1   \n2  Aprendiendo cada dia               1              106              143   \n3                                     0               36               88   \n4                  Walk               1              102                0   \n\n   tweet_count  \n0          152  \n1            0  \n2           30  \n3            0  \n4            0  \n"
    }
   ],
   "source": [
    "# Create DataFrame and view head()\n",
    "followers_df = pd.DataFrame(followers_list)\n",
    "print(followers_df.head(5))"
   ]
  },
  {
   "cell_type": "code",
   "execution_count": 18,
   "metadata": {
    "tags": []
   },
   "outputs": [
    {
     "output_type": "stream",
     "name": "stdout",
     "text": "id          created_at      screen_name  \\\n0  1138142884857671682 2019-06-10 17:56:24  CarlosE05389219   \n1  1274749535437434883 2020-06-21 17:02:40   Gladys83191712   \n2  1144452045912457216 2019-06-28 03:46:45   Flores71398267   \n3  1240516725814288384 2020-03-19 05:53:40     Melissa56788   \n4  1274806607885430784 2020-06-21 20:49:33  William06148787   \n\n            description  follower_count  following_count  favorites_count  \\\n0      Fun and original               3               26              646   \n1      La vida es bella               1               15                1   \n2  Aprendiendo cada dia               1              106              143   \n3                                     0               36               88   \n4                  Walk               1              102                0   \n\n   tweet_count  count_numbers_screen_name description_empty  \\\n0          152                          8   W/O Description   \n1            0                          8   W/O Description   \n2           30                          8   W/O Description   \n3            0                          5    W/ Description   \n4            0                          8   W/O Description   \n\n   description_character_count  account_age_days  account_age_hours  \\\n0                           16               376               9045   \n1                           16                -1                 -2   \n2                           20               359               8628   \n3                            0                94               2265   \n4                            4                -1                 -5   \n\n   numbers_in_name_5  \n0                  1  \n1                  1  \n2                  1  \n3                  1  \n4                  1  \n"
    }
   ],
   "source": [
    "# Create extra columns for analysis\n",
    "\n",
    "## Count numbers in ScreenName for each follower\n",
    "followers_df['count_numbers_screen_name'] = followers_df['screen_name'].str.count('[0-9]')\n",
    "followers_df['count_numbers_screen_name'].apply(int)\n",
    "\n",
    "## Determine if description is empty\n",
    "def description_length(description):\n",
    "    if len(description) == 0:\n",
    "        return \"W/ Description\"\n",
    "    else:\n",
    "        return \"W/O Description\"\n",
    "\n",
    "followers_df['description_empty'] = followers_df['description'].apply(description_length)\n",
    "\n",
    "## Count number of words in description\n",
    "followers_df['description_character_count'] = followers_df['description'].apply(len)\n",
    "\n",
    "## Calculate account age\n",
    "def calculate_age_days(created_at):\n",
    "    delta = datetime.datetime.now() - created_at \n",
    "    return(int(delta.days))\n",
    "\n",
    "def calculate_age_hours(created_at):\n",
    "    delta = datetime.datetime.now() - created_at \n",
    "    delta = (delta.days*24) + (delta.seconds//3600)\n",
    "    return(int(delta))\n",
    "\n",
    "followers_df['account_age_days'] = followers_df['created_at'].apply(calculate_age_days)\n",
    "followers_df['account_age_hours'] = followers_df['created_at'].apply(calculate_age_hours)\n",
    "\n",
    "## Numbers in Name >= 4\n",
    "def numbers_name(count):\n",
    "    if count >=5:\n",
    "        return(1)\n",
    "    else:\n",
    "        return(0)\n",
    "followers_df['numbers_in_name_5'] = followers_df['count_numbers_screen_name'].apply(numbers_name)\n",
    "\n",
    "print(followers_df.head(5))"
   ]
  },
  {
   "cell_type": "code",
   "execution_count": 19,
   "metadata": {},
   "outputs": [
    {
     "output_type": "display_data",
     "data": {
      "application/vnd.plotly.v1+json": {
       "config": {
        "plotlyServerURL": "https://plot.ly"
       },
       "data": [
        {
         "hovertemplate": "follower_count=%{x}<br>following_count=%{y}<br>account_age_days=%{marker.color}<extra></extra>",
         "legendgroup": "",
         "marker": {
          "color": [
           376,
           -1,
           359,
           94,
           -1,
           14,
           70,
           80,
           -1,
           -1,
           2,
           39,
           3024,
           35,
           2,
           0,
           127,
           -1,
           15,
           93,
           379,
           3,
           1832,
           3168,
           -1,
           0,
           375,
           1,
           -1,
           121,
           3296,
           -1,
           63,
           2,
           -1,
           2653,
           1,
           84,
           -1,
           71,
           -1,
           2549,
           -1,
           26,
           164,
           397,
           -1,
           -1,
           -1,
           160,
           21,
           0,
           65,
           -1,
           -1,
           1,
           -1,
           -1,
           0,
           0,
           1,
           -1,
           341,
           -1,
           20,
           512,
           2261,
           0,
           2364,
           -1,
           19,
           -1,
           40,
           1,
           115,
           1166,
           198,
           3141,
           24,
           1953,
           -1,
           122,
           0,
           -1,
           1526,
           10,
           -1,
           0,
           3398,
           8,
           0,
           2,
           147,
           52,
           61,
           27,
           2288,
           361,
           2399,
           0,
           20,
           451,
           500,
           1248,
           96,
           1868,
           23,
           2308,
           0,
           3644,
           0,
           78,
           0,
           0,
           3536,
           274,
           63,
           0,
           2604,
           0,
           8,
           252,
           2728,
           0,
           742,
           3408,
           0,
           853,
           3507,
           2,
           2664,
           1601,
           0,
           0,
           0,
           777,
           99,
           0,
           6,
           102,
           0,
           0,
           93,
           1,
           22,
           0,
           3215,
           1183,
           441,
           0,
           83,
           4,
           0,
           0,
           0,
           0,
           322,
           95,
           58,
           9,
           2749,
           0,
           0,
           385,
           0,
           80,
           13,
           0,
           2845,
           2,
           0,
           5,
           0,
           78,
           333,
           21,
           0,
           0,
           26,
           3551,
           17,
           11,
           2,
           86,
           328,
           116,
           0,
           24,
           3031,
           1442,
           2981,
           381,
           0,
           0,
           3690,
           54,
           359,
           2617,
           2767,
           0,
           53,
           3239,
           1,
           0,
           1411,
           12,
           514,
           17,
           54,
           0,
           0,
           2077,
           1,
           380,
           0,
           0,
           0,
           286,
           204,
           589,
           1728,
           2,
           95,
           89,
           86,
           270,
           0,
           1394,
           1038,
           11,
           87,
           0,
           22,
           14,
           0,
           165,
           273,
           0,
           83,
           92,
           2174,
           368,
           1,
           1021,
           0,
           26,
           0,
           1,
           60,
           131,
           229,
           1789,
           0,
           0,
           0,
           1560,
           0,
           0,
           0,
           0,
           0,
           0,
           96,
           3717,
           3,
           24,
           286,
           355,
           51,
           0,
           671,
           13,
           3,
           0,
           5,
           2057,
           12,
           80,
           0,
           11,
           6,
           0,
           0,
           86,
           3,
           379,
           1,
           0,
           63,
           2,
           7,
           0,
           0,
           5,
           0,
           331,
           0,
           5,
           0,
           15
          ],
          "coloraxis": "coloraxis",
          "symbol": "circle"
         },
         "mode": "markers",
         "name": "",
         "orientation": "v",
         "showlegend": false,
         "type": "scatter",
         "x": [
          3,
          1,
          1,
          0,
          1,
          124,
          0,
          1,
          0,
          1,
          3,
          2,
          79,
          0,
          0,
          1,
          21,
          0,
          1,
          0,
          4,
          0,
          6,
          15,
          0,
          0,
          1,
          0,
          0,
          5,
          6,
          0,
          1,
          8,
          0,
          7,
          0,
          0,
          0,
          0,
          0,
          16,
          0,
          21,
          0,
          18,
          0,
          0,
          0,
          0,
          3,
          1,
          0,
          0,
          9,
          0,
          0,
          2,
          0,
          1,
          0,
          12,
          14,
          0,
          14,
          59,
          24,
          0,
          1032,
          0,
          1,
          2,
          0,
          0,
          0,
          2179,
          1,
          67,
          0,
          12,
          8,
          24,
          0,
          0,
          51,
          0,
          1,
          0,
          270,
          1,
          2,
          3,
          3,
          0,
          7,
          0,
          5,
          1,
          18,
          2,
          0,
          1,
          9,
          29,
          0,
          28,
          4,
          10,
          0,
          110,
          4,
          2,
          2,
          1,
          19,
          8,
          55,
          0,
          16,
          0,
          7,
          62,
          6,
          0,
          2,
          28,
          0,
          2,
          0,
          1,
          59,
          16,
          1,
          0,
          0,
          13,
          2,
          2,
          2,
          0,
          1,
          2,
          0,
          0,
          3,
          0,
          0,
          7,
          5,
          1,
          9,
          7,
          1,
          0,
          0,
          1,
          7,
          2,
          6,
          0,
          55,
          0,
          0,
          3,
          0,
          0,
          1,
          0,
          68,
          1,
          1,
          4,
          1,
          0,
          25,
          0,
          0,
          3,
          3,
          13,
          0,
          0,
          0,
          2,
          2,
          1,
          1,
          0,
          23,
          11,
          4,
          1,
          2,
          0,
          47,
          1,
          0,
          33,
          4,
          0,
          1,
          41,
          41,
          0,
          3,
          0,
          4,
          178,
          1,
          0,
          1,
          26,
          18,
          0,
          2,
          0,
          5,
          0,
          260,
          6,
          0,
          1,
          3,
          2,
          1,
          15,
          0,
          4,
          14,
          1,
          0,
          0,
          2,
          2,
          0,
          0,
          64,
          1,
          0,
          2,
          13,
          33,
          0,
          5,
          0,
          0,
          1,
          1,
          0,
          21,
          1,
          227,
          0,
          0,
          0,
          10,
          0,
          0,
          0,
          13,
          6,
          0,
          2,
          145,
          0,
          0,
          0,
          1,
          0,
          0,
          40,
          0,
          1,
          4,
          0,
          0,
          0,
          3,
          0,
          26,
          0,
          0,
          31,
          0,
          0,
          0,
          1,
          4,
          7,
          0,
          1,
          1,
          1,
          1,
          2,
          1,
          0,
          0,
          0,
          1
         ],
         "xaxis": "x",
         "y": [
          26,
          15,
          106,
          36,
          102,
          686,
          32,
          55,
          13,
          43,
          81,
          49,
          594,
          10,
          32,
          63,
          76,
          92,
          35,
          29,
          17,
          59,
          30,
          115,
          26,
          20,
          32,
          4,
          40,
          17,
          154,
          78,
          54,
          47,
          68,
          17,
          25,
          31,
          11,
          9,
          26,
          43,
          25,
          40,
          50,
          150,
          126,
          24,
          5,
          158,
          86,
          12,
          10,
          34,
          154,
          12,
          31,
          32,
          16,
          35,
          38,
          85,
          157,
          43,
          61,
          100,
          125,
          21,
          488,
          58,
          60,
          37,
          11,
          22,
          27,
          2355,
          31,
          782,
          34,
          75,
          70,
          59,
          36,
          107,
          291,
          11,
          126,
          25,
          436,
          24,
          80,
          26,
          66,
          46,
          55,
          2,
          32,
          28,
          91,
          42,
          25,
          11,
          71,
          47,
          51,
          202,
          38,
          96,
          10,
          604,
          79,
          28,
          62,
          49,
          357,
          35,
          78,
          47,
          19,
          23,
          31,
          122,
          106,
          19,
          19,
          250,
          18,
          215,
          4,
          13,
          67,
          54,
          32,
          5,
          40,
          65,
          27,
          213,
          39,
          34,
          15,
          83,
          19,
          36,
          60,
          13,
          18,
          117,
          38,
          138,
          62,
          56,
          70,
          17,
          40,
          38,
          140,
          32,
          25,
          16,
          879,
          100,
          69,
          53,
          42,
          13,
          45,
          30,
          290,
          31,
          49,
          127,
          27,
          65,
          241,
          8,
          36,
          232,
          36,
          243,
          75,
          30,
          5,
          56,
          35,
          9,
          90,
          12,
          455,
          251,
          100,
          81,
          116,
          100,
          422,
          38,
          7,
          72,
          61,
          38,
          55,
          173,
          721,
          103,
          53,
          22,
          20,
          921,
          39,
          18,
          117,
          253,
          439,
          23,
          34,
          101,
          354,
          45,
          429,
          225,
          46,
          37,
          89,
          13,
          46,
          304,
          23,
          62,
          215,
          12,
          46,
          25,
          27,
          40,
          69,
          16,
          180,
          14,
          55,
          24,
          99,
          49,
          121,
          55,
          37,
          43,
          103,
          55,
          14,
          75,
          43,
          96,
          10,
          81,
          70,
          78,
          51,
          20,
          84,
          112,
          274,
          14,
          28,
          436,
          31,
          8,
          162,
          36,
          12,
          20,
          163,
          62,
          13,
          170,
          91,
          111,
          40,
          100,
          20,
          68,
          5,
          24,
          188,
          66,
          23,
          8,
          33,
          44,
          95,
          43,
          53,
          42,
          74,
          17,
          83,
          16,
          54,
          28,
          16,
          37
         ],
         "yaxis": "y"
        }
       ],
       "layout": {
        "coloraxis": {
         "colorbar": {
          "title": {
           "text": "account_age_days"
          }
         },
         "colorscale": [
          [
           0,
           "#0d0887"
          ],
          [
           0.1111111111111111,
           "#46039f"
          ],
          [
           0.2222222222222222,
           "#7201a8"
          ],
          [
           0.3333333333333333,
           "#9c179e"
          ],
          [
           0.4444444444444444,
           "#bd3786"
          ],
          [
           0.5555555555555556,
           "#d8576b"
          ],
          [
           0.6666666666666666,
           "#ed7953"
          ],
          [
           0.7777777777777778,
           "#fb9f3a"
          ],
          [
           0.8888888888888888,
           "#fdca26"
          ],
          [
           1,
           "#f0f921"
          ]
         ]
        },
        "legend": {
         "tracegroupgap": 0
        },
        "margin": {
         "t": 60
        },
        "template": {
         "data": {
          "bar": [
           {
            "error_x": {
             "color": "#2a3f5f"
            },
            "error_y": {
             "color": "#2a3f5f"
            },
            "marker": {
             "line": {
              "color": "#E5ECF6",
              "width": 0.5
             }
            },
            "type": "bar"
           }
          ],
          "barpolar": [
           {
            "marker": {
             "line": {
              "color": "#E5ECF6",
              "width": 0.5
             }
            },
            "type": "barpolar"
           }
          ],
          "carpet": [
           {
            "aaxis": {
             "endlinecolor": "#2a3f5f",
             "gridcolor": "white",
             "linecolor": "white",
             "minorgridcolor": "white",
             "startlinecolor": "#2a3f5f"
            },
            "baxis": {
             "endlinecolor": "#2a3f5f",
             "gridcolor": "white",
             "linecolor": "white",
             "minorgridcolor": "white",
             "startlinecolor": "#2a3f5f"
            },
            "type": "carpet"
           }
          ],
          "choropleth": [
           {
            "colorbar": {
             "outlinewidth": 0,
             "ticks": ""
            },
            "type": "choropleth"
           }
          ],
          "contour": [
           {
            "colorbar": {
             "outlinewidth": 0,
             "ticks": ""
            },
            "colorscale": [
             [
              0,
              "#0d0887"
             ],
             [
              0.1111111111111111,
              "#46039f"
             ],
             [
              0.2222222222222222,
              "#7201a8"
             ],
             [
              0.3333333333333333,
              "#9c179e"
             ],
             [
              0.4444444444444444,
              "#bd3786"
             ],
             [
              0.5555555555555556,
              "#d8576b"
             ],
             [
              0.6666666666666666,
              "#ed7953"
             ],
             [
              0.7777777777777778,
              "#fb9f3a"
             ],
             [
              0.8888888888888888,
              "#fdca26"
             ],
             [
              1,
              "#f0f921"
             ]
            ],
            "type": "contour"
           }
          ],
          "contourcarpet": [
           {
            "colorbar": {
             "outlinewidth": 0,
             "ticks": ""
            },
            "type": "contourcarpet"
           }
          ],
          "heatmap": [
           {
            "colorbar": {
             "outlinewidth": 0,
             "ticks": ""
            },
            "colorscale": [
             [
              0,
              "#0d0887"
             ],
             [
              0.1111111111111111,
              "#46039f"
             ],
             [
              0.2222222222222222,
              "#7201a8"
             ],
             [
              0.3333333333333333,
              "#9c179e"
             ],
             [
              0.4444444444444444,
              "#bd3786"
             ],
             [
              0.5555555555555556,
              "#d8576b"
             ],
             [
              0.6666666666666666,
              "#ed7953"
             ],
             [
              0.7777777777777778,
              "#fb9f3a"
             ],
             [
              0.8888888888888888,
              "#fdca26"
             ],
             [
              1,
              "#f0f921"
             ]
            ],
            "type": "heatmap"
           }
          ],
          "heatmapgl": [
           {
            "colorbar": {
             "outlinewidth": 0,
             "ticks": ""
            },
            "colorscale": [
             [
              0,
              "#0d0887"
             ],
             [
              0.1111111111111111,
              "#46039f"
             ],
             [
              0.2222222222222222,
              "#7201a8"
             ],
             [
              0.3333333333333333,
              "#9c179e"
             ],
             [
              0.4444444444444444,
              "#bd3786"
             ],
             [
              0.5555555555555556,
              "#d8576b"
             ],
             [
              0.6666666666666666,
              "#ed7953"
             ],
             [
              0.7777777777777778,
              "#fb9f3a"
             ],
             [
              0.8888888888888888,
              "#fdca26"
             ],
             [
              1,
              "#f0f921"
             ]
            ],
            "type": "heatmapgl"
           }
          ],
          "histogram": [
           {
            "marker": {
             "colorbar": {
              "outlinewidth": 0,
              "ticks": ""
             }
            },
            "type": "histogram"
           }
          ],
          "histogram2d": [
           {
            "colorbar": {
             "outlinewidth": 0,
             "ticks": ""
            },
            "colorscale": [
             [
              0,
              "#0d0887"
             ],
             [
              0.1111111111111111,
              "#46039f"
             ],
             [
              0.2222222222222222,
              "#7201a8"
             ],
             [
              0.3333333333333333,
              "#9c179e"
             ],
             [
              0.4444444444444444,
              "#bd3786"
             ],
             [
              0.5555555555555556,
              "#d8576b"
             ],
             [
              0.6666666666666666,
              "#ed7953"
             ],
             [
              0.7777777777777778,
              "#fb9f3a"
             ],
             [
              0.8888888888888888,
              "#fdca26"
             ],
             [
              1,
              "#f0f921"
             ]
            ],
            "type": "histogram2d"
           }
          ],
          "histogram2dcontour": [
           {
            "colorbar": {
             "outlinewidth": 0,
             "ticks": ""
            },
            "colorscale": [
             [
              0,
              "#0d0887"
             ],
             [
              0.1111111111111111,
              "#46039f"
             ],
             [
              0.2222222222222222,
              "#7201a8"
             ],
             [
              0.3333333333333333,
              "#9c179e"
             ],
             [
              0.4444444444444444,
              "#bd3786"
             ],
             [
              0.5555555555555556,
              "#d8576b"
             ],
             [
              0.6666666666666666,
              "#ed7953"
             ],
             [
              0.7777777777777778,
              "#fb9f3a"
             ],
             [
              0.8888888888888888,
              "#fdca26"
             ],
             [
              1,
              "#f0f921"
             ]
            ],
            "type": "histogram2dcontour"
           }
          ],
          "mesh3d": [
           {
            "colorbar": {
             "outlinewidth": 0,
             "ticks": ""
            },
            "type": "mesh3d"
           }
          ],
          "parcoords": [
           {
            "line": {
             "colorbar": {
              "outlinewidth": 0,
              "ticks": ""
             }
            },
            "type": "parcoords"
           }
          ],
          "pie": [
           {
            "automargin": true,
            "type": "pie"
           }
          ],
          "scatter": [
           {
            "marker": {
             "colorbar": {
              "outlinewidth": 0,
              "ticks": ""
             }
            },
            "type": "scatter"
           }
          ],
          "scatter3d": [
           {
            "line": {
             "colorbar": {
              "outlinewidth": 0,
              "ticks": ""
             }
            },
            "marker": {
             "colorbar": {
              "outlinewidth": 0,
              "ticks": ""
             }
            },
            "type": "scatter3d"
           }
          ],
          "scattercarpet": [
           {
            "marker": {
             "colorbar": {
              "outlinewidth": 0,
              "ticks": ""
             }
            },
            "type": "scattercarpet"
           }
          ],
          "scattergeo": [
           {
            "marker": {
             "colorbar": {
              "outlinewidth": 0,
              "ticks": ""
             }
            },
            "type": "scattergeo"
           }
          ],
          "scattergl": [
           {
            "marker": {
             "colorbar": {
              "outlinewidth": 0,
              "ticks": ""
             }
            },
            "type": "scattergl"
           }
          ],
          "scattermapbox": [
           {
            "marker": {
             "colorbar": {
              "outlinewidth": 0,
              "ticks": ""
             }
            },
            "type": "scattermapbox"
           }
          ],
          "scatterpolar": [
           {
            "marker": {
             "colorbar": {
              "outlinewidth": 0,
              "ticks": ""
             }
            },
            "type": "scatterpolar"
           }
          ],
          "scatterpolargl": [
           {
            "marker": {
             "colorbar": {
              "outlinewidth": 0,
              "ticks": ""
             }
            },
            "type": "scatterpolargl"
           }
          ],
          "scatterternary": [
           {
            "marker": {
             "colorbar": {
              "outlinewidth": 0,
              "ticks": ""
             }
            },
            "type": "scatterternary"
           }
          ],
          "surface": [
           {
            "colorbar": {
             "outlinewidth": 0,
             "ticks": ""
            },
            "colorscale": [
             [
              0,
              "#0d0887"
             ],
             [
              0.1111111111111111,
              "#46039f"
             ],
             [
              0.2222222222222222,
              "#7201a8"
             ],
             [
              0.3333333333333333,
              "#9c179e"
             ],
             [
              0.4444444444444444,
              "#bd3786"
             ],
             [
              0.5555555555555556,
              "#d8576b"
             ],
             [
              0.6666666666666666,
              "#ed7953"
             ],
             [
              0.7777777777777778,
              "#fb9f3a"
             ],
             [
              0.8888888888888888,
              "#fdca26"
             ],
             [
              1,
              "#f0f921"
             ]
            ],
            "type": "surface"
           }
          ],
          "table": [
           {
            "cells": {
             "fill": {
              "color": "#EBF0F8"
             },
             "line": {
              "color": "white"
             }
            },
            "header": {
             "fill": {
              "color": "#C8D4E3"
             },
             "line": {
              "color": "white"
             }
            },
            "type": "table"
           }
          ]
         },
         "layout": {
          "annotationdefaults": {
           "arrowcolor": "#2a3f5f",
           "arrowhead": 0,
           "arrowwidth": 1
          },
          "coloraxis": {
           "colorbar": {
            "outlinewidth": 0,
            "ticks": ""
           }
          },
          "colorscale": {
           "diverging": [
            [
             0,
             "#8e0152"
            ],
            [
             0.1,
             "#c51b7d"
            ],
            [
             0.2,
             "#de77ae"
            ],
            [
             0.3,
             "#f1b6da"
            ],
            [
             0.4,
             "#fde0ef"
            ],
            [
             0.5,
             "#f7f7f7"
            ],
            [
             0.6,
             "#e6f5d0"
            ],
            [
             0.7,
             "#b8e186"
            ],
            [
             0.8,
             "#7fbc41"
            ],
            [
             0.9,
             "#4d9221"
            ],
            [
             1,
             "#276419"
            ]
           ],
           "sequential": [
            [
             0,
             "#0d0887"
            ],
            [
             0.1111111111111111,
             "#46039f"
            ],
            [
             0.2222222222222222,
             "#7201a8"
            ],
            [
             0.3333333333333333,
             "#9c179e"
            ],
            [
             0.4444444444444444,
             "#bd3786"
            ],
            [
             0.5555555555555556,
             "#d8576b"
            ],
            [
             0.6666666666666666,
             "#ed7953"
            ],
            [
             0.7777777777777778,
             "#fb9f3a"
            ],
            [
             0.8888888888888888,
             "#fdca26"
            ],
            [
             1,
             "#f0f921"
            ]
           ],
           "sequentialminus": [
            [
             0,
             "#0d0887"
            ],
            [
             0.1111111111111111,
             "#46039f"
            ],
            [
             0.2222222222222222,
             "#7201a8"
            ],
            [
             0.3333333333333333,
             "#9c179e"
            ],
            [
             0.4444444444444444,
             "#bd3786"
            ],
            [
             0.5555555555555556,
             "#d8576b"
            ],
            [
             0.6666666666666666,
             "#ed7953"
            ],
            [
             0.7777777777777778,
             "#fb9f3a"
            ],
            [
             0.8888888888888888,
             "#fdca26"
            ],
            [
             1,
             "#f0f921"
            ]
           ]
          },
          "colorway": [
           "#636efa",
           "#EF553B",
           "#00cc96",
           "#ab63fa",
           "#FFA15A",
           "#19d3f3",
           "#FF6692",
           "#B6E880",
           "#FF97FF",
           "#FECB52"
          ],
          "font": {
           "color": "#2a3f5f"
          },
          "geo": {
           "bgcolor": "white",
           "lakecolor": "white",
           "landcolor": "#E5ECF6",
           "showlakes": true,
           "showland": true,
           "subunitcolor": "white"
          },
          "hoverlabel": {
           "align": "left"
          },
          "hovermode": "closest",
          "mapbox": {
           "style": "light"
          },
          "paper_bgcolor": "white",
          "plot_bgcolor": "#E5ECF6",
          "polar": {
           "angularaxis": {
            "gridcolor": "white",
            "linecolor": "white",
            "ticks": ""
           },
           "bgcolor": "#E5ECF6",
           "radialaxis": {
            "gridcolor": "white",
            "linecolor": "white",
            "ticks": ""
           }
          },
          "scene": {
           "xaxis": {
            "backgroundcolor": "#E5ECF6",
            "gridcolor": "white",
            "gridwidth": 2,
            "linecolor": "white",
            "showbackground": true,
            "ticks": "",
            "zerolinecolor": "white"
           },
           "yaxis": {
            "backgroundcolor": "#E5ECF6",
            "gridcolor": "white",
            "gridwidth": 2,
            "linecolor": "white",
            "showbackground": true,
            "ticks": "",
            "zerolinecolor": "white"
           },
           "zaxis": {
            "backgroundcolor": "#E5ECF6",
            "gridcolor": "white",
            "gridwidth": 2,
            "linecolor": "white",
            "showbackground": true,
            "ticks": "",
            "zerolinecolor": "white"
           }
          },
          "shapedefaults": {
           "line": {
            "color": "#2a3f5f"
           }
          },
          "ternary": {
           "aaxis": {
            "gridcolor": "white",
            "linecolor": "white",
            "ticks": ""
           },
           "baxis": {
            "gridcolor": "white",
            "linecolor": "white",
            "ticks": ""
           },
           "bgcolor": "#E5ECF6",
           "caxis": {
            "gridcolor": "white",
            "linecolor": "white",
            "ticks": ""
           }
          },
          "title": {
           "x": 0.05
          },
          "xaxis": {
           "automargin": true,
           "gridcolor": "white",
           "linecolor": "white",
           "ticks": "",
           "title": {
            "standoff": 15
           },
           "zerolinecolor": "white",
           "zerolinewidth": 2
          },
          "yaxis": {
           "automargin": true,
           "gridcolor": "white",
           "linecolor": "white",
           "ticks": "",
           "title": {
            "standoff": 15
           },
           "zerolinecolor": "white",
           "zerolinewidth": 2
          }
         }
        },
        "title": {
         "text": "Following vs Followers"
        },
        "xaxis": {
         "anchor": "y",
         "domain": [
          0,
          1
         ],
         "title": {
          "text": "Followers"
         }
        },
        "yaxis": {
         "anchor": "x",
         "domain": [
          0,
          1
         ],
         "title": {
          "text": "Following"
         }
        }
       }
      }
     },
     "metadata": {}
    }
   ],
   "source": [
    "# Plots\n",
    "## Following vs Followers\n",
    "fig = px.scatter(followers_df, x = 'follower_count', y = 'following_count', color = 'account_age_days')\n",
    "\n",
    "fig.update_layout(\n",
    "    title = 'Following vs Followers',\n",
    "    xaxis_title = 'Followers',\n",
    "    yaxis_title = 'Following'\n",
    ")\n",
    "\n",
    "fig.show()"
   ]
  },
  {
   "cell_type": "code",
   "execution_count": 20,
   "metadata": {},
   "outputs": [
    {
     "output_type": "display_data",
     "data": {
      "application/vnd.plotly.v1+json": {
       "config": {
        "plotlyServerURL": "https://plot.ly"
       },
       "data": [
        {
         "hovertemplate": "description_empty=W/O Description<br>follower_count=%{x}<br>following_count=%{y}<br>account_age_days=%{marker.color}<extra></extra>",
         "legendgroup": "",
         "marker": {
          "color": [
           376,
           -1,
           359,
           -1,
           14,
           -1,
           2,
           39,
           35,
           2,
           0,
           -1,
           15,
           379,
           0,
           375,
           2,
           2653,
           84,
           -1,
           -1,
           26,
           -1,
           -1,
           -1,
           160,
           21,
           0,
           -1,
           -1,
           -1,
           0,
           0,
           -1,
           341,
           20,
           512,
           2261,
           0,
           2364,
           -1,
           40,
           1166,
           24,
           -1,
           122,
           1526,
           -1,
           3398,
           8,
           0,
           61,
           27,
           2399,
           0,
           451,
           2308,
           3644,
           0,
           0,
           274,
           63,
           2604,
           8,
           252,
           0,
           742,
           2664,
           1601,
           0,
           0,
           0,
           102,
           1,
           0,
           3215,
           0,
           4,
           0,
           0,
           0,
           9,
           2749,
           0,
           385,
           80,
           0,
           2845,
           2,
           5,
           0,
           333,
           21,
           11,
           2,
           86,
           328,
           24,
           1442,
           381,
           0,
           54,
           359,
           0,
           53,
           3239,
           1,
           0,
           1411,
           12,
           17,
           0,
           2077,
           1,
           0,
           0,
           204,
           589,
           2,
           89,
           0,
           22,
           0,
           83,
           368,
           1,
           1021,
           26,
           0,
           1,
           131,
           229,
           0,
           1560,
           0,
           0,
           0,
           0,
           3717,
           24,
           286,
           0,
           0,
           12,
           80,
           0,
           6,
           0,
           0,
           86,
           3,
           379,
           0,
           7,
           0,
           5,
           0,
           0,
           5,
           15
          ],
          "coloraxis": "coloraxis",
          "line": {
           "color": "DarkSlateGrey",
           "width": 1
          },
          "size": 8,
          "symbol": "circle"
         },
         "mode": "markers",
         "name": "",
         "orientation": "v",
         "showlegend": false,
         "type": "scatter",
         "x": [
          3,
          1,
          1,
          1,
          124,
          1,
          3,
          2,
          0,
          0,
          1,
          0,
          1,
          4,
          0,
          1,
          8,
          7,
          0,
          0,
          0,
          21,
          0,
          0,
          0,
          0,
          3,
          1,
          9,
          0,
          2,
          0,
          1,
          12,
          14,
          14,
          59,
          24,
          0,
          1032,
          0,
          0,
          2179,
          0,
          8,
          24,
          51,
          1,
          270,
          1,
          2,
          7,
          0,
          18,
          2,
          1,
          10,
          110,
          4,
          2,
          8,
          55,
          16,
          7,
          62,
          0,
          2,
          59,
          16,
          1,
          0,
          2,
          0,
          0,
          0,
          0,
          1,
          7,
          1,
          0,
          1,
          0,
          55,
          0,
          3,
          0,
          0,
          68,
          1,
          4,
          1,
          25,
          0,
          0,
          0,
          2,
          2,
          0,
          11,
          1,
          0,
          1,
          0,
          0,
          1,
          41,
          41,
          0,
          3,
          0,
          178,
          1,
          26,
          18,
          2,
          5,
          260,
          6,
          1,
          2,
          0,
          2,
          0,
          0,
          33,
          0,
          5,
          0,
          1,
          1,
          21,
          1,
          0,
          10,
          0,
          0,
          0,
          0,
          145,
          0,
          0,
          0,
          4,
          0,
          3,
          0,
          0,
          0,
          31,
          0,
          0,
          0,
          4,
          1,
          1,
          1,
          2,
          0,
          0,
          1
         ],
         "xaxis": "x",
         "y": [
          26,
          15,
          106,
          102,
          686,
          43,
          81,
          49,
          10,
          32,
          63,
          92,
          35,
          17,
          20,
          32,
          47,
          17,
          31,
          26,
          25,
          40,
          126,
          24,
          5,
          158,
          86,
          12,
          154,
          31,
          32,
          16,
          35,
          85,
          157,
          61,
          100,
          125,
          21,
          488,
          58,
          11,
          2355,
          34,
          70,
          59,
          291,
          126,
          436,
          24,
          80,
          55,
          2,
          91,
          42,
          11,
          96,
          604,
          79,
          62,
          35,
          78,
          19,
          31,
          122,
          19,
          19,
          67,
          54,
          32,
          5,
          213,
          34,
          36,
          13,
          18,
          138,
          56,
          70,
          17,
          38,
          16,
          879,
          69,
          53,
          13,
          30,
          290,
          31,
          127,
          27,
          241,
          8,
          30,
          5,
          56,
          35,
          12,
          251,
          81,
          100,
          38,
          7,
          38,
          55,
          173,
          721,
          103,
          53,
          22,
          921,
          117,
          253,
          439,
          34,
          354,
          429,
          225,
          37,
          13,
          25,
          27,
          69,
          55,
          49,
          121,
          55,
          43,
          103,
          55,
          75,
          43,
          70,
          78,
          51,
          20,
          84,
          14,
          436,
          8,
          162,
          20,
          170,
          40,
          100,
          20,
          5,
          24,
          188,
          66,
          23,
          8,
          44,
          53,
          42,
          17,
          83,
          54,
          28,
          37
         ],
         "yaxis": "y"
        },
        {
         "hovertemplate": "description_empty=W/ Description<br>follower_count=%{x}<br>following_count=%{y}<br>account_age_days=%{marker.color}<extra></extra>",
         "legendgroup": "",
         "marker": {
          "color": [
           94,
           70,
           80,
           -1,
           3024,
           127,
           93,
           3,
           1832,
           3168,
           -1,
           1,
           -1,
           121,
           3296,
           -1,
           63,
           -1,
           1,
           -1,
           71,
           2549,
           164,
           397,
           65,
           -1,
           1,
           1,
           -1,
           19,
           -1,
           1,
           115,
           198,
           3141,
           1953,
           0,
           -1,
           10,
           0,
           2,
           147,
           52,
           2288,
           361,
           20,
           500,
           1248,
           96,
           1868,
           23,
           0,
           78,
           0,
           3536,
           0,
           0,
           2728,
           3408,
           0,
           853,
           3507,
           2,
           0,
           777,
           99,
           6,
           0,
           0,
           93,
           22,
           1183,
           441,
           83,
           0,
           322,
           95,
           58,
           0,
           0,
           13,
           0,
           78,
           0,
           0,
           26,
           3551,
           17,
           116,
           0,
           3031,
           2981,
           0,
           3690,
           2617,
           2767,
           514,
           54,
           0,
           380,
           0,
           286,
           1728,
           95,
           86,
           270,
           0,
           1394,
           1038,
           11,
           87,
           14,
           165,
           273,
           0,
           92,
           2174,
           0,
           60,
           1789,
           0,
           0,
           0,
           0,
           96,
           3,
           355,
           51,
           671,
           13,
           3,
           5,
           2057,
           11,
           1,
           63,
           2,
           0,
           331,
           0
          ],
          "coloraxis": "coloraxis",
          "line": {
           "color": "DarkSlateGrey",
           "width": 1
          },
          "size": 8,
          "symbol": "circle"
         },
         "mode": "markers",
         "name": "",
         "orientation": "v",
         "showlegend": false,
         "type": "scatter",
         "x": [
          0,
          0,
          1,
          0,
          79,
          21,
          0,
          0,
          6,
          15,
          0,
          0,
          0,
          5,
          6,
          0,
          1,
          0,
          0,
          0,
          0,
          16,
          0,
          18,
          0,
          0,
          0,
          0,
          0,
          1,
          2,
          0,
          0,
          1,
          67,
          12,
          0,
          0,
          0,
          0,
          3,
          3,
          0,
          5,
          1,
          0,
          9,
          29,
          0,
          28,
          4,
          0,
          2,
          1,
          19,
          0,
          0,
          6,
          28,
          0,
          2,
          0,
          1,
          0,
          13,
          2,
          2,
          1,
          2,
          0,
          3,
          7,
          5,
          9,
          0,
          7,
          2,
          6,
          0,
          0,
          1,
          1,
          0,
          0,
          3,
          3,
          13,
          0,
          1,
          1,
          23,
          4,
          2,
          47,
          33,
          4,
          4,
          1,
          0,
          0,
          0,
          0,
          0,
          3,
          1,
          15,
          0,
          4,
          14,
          1,
          0,
          2,
          0,
          64,
          1,
          2,
          13,
          0,
          0,
          227,
          0,
          0,
          13,
          6,
          2,
          0,
          1,
          0,
          40,
          0,
          1,
          0,
          0,
          26,
          1,
          7,
          0,
          1,
          1,
          0
         ],
         "xaxis": "x2",
         "y": [
          36,
          32,
          55,
          13,
          594,
          76,
          29,
          59,
          30,
          115,
          26,
          4,
          40,
          17,
          154,
          78,
          54,
          68,
          25,
          11,
          9,
          43,
          50,
          150,
          10,
          34,
          12,
          38,
          43,
          60,
          37,
          22,
          27,
          31,
          782,
          75,
          36,
          107,
          11,
          25,
          26,
          66,
          46,
          32,
          28,
          25,
          71,
          47,
          51,
          202,
          38,
          10,
          28,
          49,
          357,
          47,
          23,
          106,
          250,
          18,
          215,
          4,
          13,
          40,
          65,
          27,
          39,
          15,
          83,
          19,
          60,
          117,
          38,
          62,
          40,
          140,
          32,
          25,
          100,
          42,
          45,
          49,
          65,
          36,
          232,
          36,
          243,
          75,
          9,
          90,
          455,
          100,
          116,
          422,
          72,
          61,
          20,
          39,
          18,
          23,
          101,
          45,
          46,
          89,
          46,
          304,
          23,
          62,
          215,
          12,
          46,
          40,
          16,
          180,
          14,
          24,
          99,
          37,
          14,
          96,
          10,
          81,
          112,
          274,
          28,
          31,
          36,
          12,
          163,
          62,
          13,
          91,
          111,
          68,
          33,
          95,
          43,
          74,
          16,
          16
         ],
         "yaxis": "y2"
        }
       ],
       "layout": {
        "annotations": [
         {
          "font": {},
          "showarrow": false,
          "text": "W/O Description",
          "x": 0.245,
          "xanchor": "center",
          "xref": "paper",
          "y": 1,
          "yanchor": "bottom",
          "yref": "paper"
         },
         {
          "font": {},
          "showarrow": false,
          "text": "W/ Description",
          "x": 0.755,
          "xanchor": "center",
          "xref": "paper",
          "y": 1,
          "yanchor": "bottom",
          "yref": "paper"
         }
        ],
        "coloraxis": {
         "colorbar": {
          "title": {
           "text": "account_age_days"
          }
         },
         "colorscale": [
          [
           0,
           "#0d0887"
          ],
          [
           0.1111111111111111,
           "#46039f"
          ],
          [
           0.2222222222222222,
           "#7201a8"
          ],
          [
           0.3333333333333333,
           "#9c179e"
          ],
          [
           0.4444444444444444,
           "#bd3786"
          ],
          [
           0.5555555555555556,
           "#d8576b"
          ],
          [
           0.6666666666666666,
           "#ed7953"
          ],
          [
           0.7777777777777778,
           "#fb9f3a"
          ],
          [
           0.8888888888888888,
           "#fdca26"
          ],
          [
           1,
           "#f0f921"
          ]
         ]
        },
        "height": 500,
        "legend": {
         "tracegroupgap": 0
        },
        "margin": {
         "t": 60
        },
        "template": {
         "data": {
          "bar": [
           {
            "error_x": {
             "color": "#2a3f5f"
            },
            "error_y": {
             "color": "#2a3f5f"
            },
            "marker": {
             "line": {
              "color": "#E5ECF6",
              "width": 0.5
             }
            },
            "type": "bar"
           }
          ],
          "barpolar": [
           {
            "marker": {
             "line": {
              "color": "#E5ECF6",
              "width": 0.5
             }
            },
            "type": "barpolar"
           }
          ],
          "carpet": [
           {
            "aaxis": {
             "endlinecolor": "#2a3f5f",
             "gridcolor": "white",
             "linecolor": "white",
             "minorgridcolor": "white",
             "startlinecolor": "#2a3f5f"
            },
            "baxis": {
             "endlinecolor": "#2a3f5f",
             "gridcolor": "white",
             "linecolor": "white",
             "minorgridcolor": "white",
             "startlinecolor": "#2a3f5f"
            },
            "type": "carpet"
           }
          ],
          "choropleth": [
           {
            "colorbar": {
             "outlinewidth": 0,
             "ticks": ""
            },
            "type": "choropleth"
           }
          ],
          "contour": [
           {
            "colorbar": {
             "outlinewidth": 0,
             "ticks": ""
            },
            "colorscale": [
             [
              0,
              "#0d0887"
             ],
             [
              0.1111111111111111,
              "#46039f"
             ],
             [
              0.2222222222222222,
              "#7201a8"
             ],
             [
              0.3333333333333333,
              "#9c179e"
             ],
             [
              0.4444444444444444,
              "#bd3786"
             ],
             [
              0.5555555555555556,
              "#d8576b"
             ],
             [
              0.6666666666666666,
              "#ed7953"
             ],
             [
              0.7777777777777778,
              "#fb9f3a"
             ],
             [
              0.8888888888888888,
              "#fdca26"
             ],
             [
              1,
              "#f0f921"
             ]
            ],
            "type": "contour"
           }
          ],
          "contourcarpet": [
           {
            "colorbar": {
             "outlinewidth": 0,
             "ticks": ""
            },
            "type": "contourcarpet"
           }
          ],
          "heatmap": [
           {
            "colorbar": {
             "outlinewidth": 0,
             "ticks": ""
            },
            "colorscale": [
             [
              0,
              "#0d0887"
             ],
             [
              0.1111111111111111,
              "#46039f"
             ],
             [
              0.2222222222222222,
              "#7201a8"
             ],
             [
              0.3333333333333333,
              "#9c179e"
             ],
             [
              0.4444444444444444,
              "#bd3786"
             ],
             [
              0.5555555555555556,
              "#d8576b"
             ],
             [
              0.6666666666666666,
              "#ed7953"
             ],
             [
              0.7777777777777778,
              "#fb9f3a"
             ],
             [
              0.8888888888888888,
              "#fdca26"
             ],
             [
              1,
              "#f0f921"
             ]
            ],
            "type": "heatmap"
           }
          ],
          "heatmapgl": [
           {
            "colorbar": {
             "outlinewidth": 0,
             "ticks": ""
            },
            "colorscale": [
             [
              0,
              "#0d0887"
             ],
             [
              0.1111111111111111,
              "#46039f"
             ],
             [
              0.2222222222222222,
              "#7201a8"
             ],
             [
              0.3333333333333333,
              "#9c179e"
             ],
             [
              0.4444444444444444,
              "#bd3786"
             ],
             [
              0.5555555555555556,
              "#d8576b"
             ],
             [
              0.6666666666666666,
              "#ed7953"
             ],
             [
              0.7777777777777778,
              "#fb9f3a"
             ],
             [
              0.8888888888888888,
              "#fdca26"
             ],
             [
              1,
              "#f0f921"
             ]
            ],
            "type": "heatmapgl"
           }
          ],
          "histogram": [
           {
            "marker": {
             "colorbar": {
              "outlinewidth": 0,
              "ticks": ""
             }
            },
            "type": "histogram"
           }
          ],
          "histogram2d": [
           {
            "colorbar": {
             "outlinewidth": 0,
             "ticks": ""
            },
            "colorscale": [
             [
              0,
              "#0d0887"
             ],
             [
              0.1111111111111111,
              "#46039f"
             ],
             [
              0.2222222222222222,
              "#7201a8"
             ],
             [
              0.3333333333333333,
              "#9c179e"
             ],
             [
              0.4444444444444444,
              "#bd3786"
             ],
             [
              0.5555555555555556,
              "#d8576b"
             ],
             [
              0.6666666666666666,
              "#ed7953"
             ],
             [
              0.7777777777777778,
              "#fb9f3a"
             ],
             [
              0.8888888888888888,
              "#fdca26"
             ],
             [
              1,
              "#f0f921"
             ]
            ],
            "type": "histogram2d"
           }
          ],
          "histogram2dcontour": [
           {
            "colorbar": {
             "outlinewidth": 0,
             "ticks": ""
            },
            "colorscale": [
             [
              0,
              "#0d0887"
             ],
             [
              0.1111111111111111,
              "#46039f"
             ],
             [
              0.2222222222222222,
              "#7201a8"
             ],
             [
              0.3333333333333333,
              "#9c179e"
             ],
             [
              0.4444444444444444,
              "#bd3786"
             ],
             [
              0.5555555555555556,
              "#d8576b"
             ],
             [
              0.6666666666666666,
              "#ed7953"
             ],
             [
              0.7777777777777778,
              "#fb9f3a"
             ],
             [
              0.8888888888888888,
              "#fdca26"
             ],
             [
              1,
              "#f0f921"
             ]
            ],
            "type": "histogram2dcontour"
           }
          ],
          "mesh3d": [
           {
            "colorbar": {
             "outlinewidth": 0,
             "ticks": ""
            },
            "type": "mesh3d"
           }
          ],
          "parcoords": [
           {
            "line": {
             "colorbar": {
              "outlinewidth": 0,
              "ticks": ""
             }
            },
            "type": "parcoords"
           }
          ],
          "pie": [
           {
            "automargin": true,
            "type": "pie"
           }
          ],
          "scatter": [
           {
            "marker": {
             "colorbar": {
              "outlinewidth": 0,
              "ticks": ""
             }
            },
            "type": "scatter"
           }
          ],
          "scatter3d": [
           {
            "line": {
             "colorbar": {
              "outlinewidth": 0,
              "ticks": ""
             }
            },
            "marker": {
             "colorbar": {
              "outlinewidth": 0,
              "ticks": ""
             }
            },
            "type": "scatter3d"
           }
          ],
          "scattercarpet": [
           {
            "marker": {
             "colorbar": {
              "outlinewidth": 0,
              "ticks": ""
             }
            },
            "type": "scattercarpet"
           }
          ],
          "scattergeo": [
           {
            "marker": {
             "colorbar": {
              "outlinewidth": 0,
              "ticks": ""
             }
            },
            "type": "scattergeo"
           }
          ],
          "scattergl": [
           {
            "marker": {
             "colorbar": {
              "outlinewidth": 0,
              "ticks": ""
             }
            },
            "type": "scattergl"
           }
          ],
          "scattermapbox": [
           {
            "marker": {
             "colorbar": {
              "outlinewidth": 0,
              "ticks": ""
             }
            },
            "type": "scattermapbox"
           }
          ],
          "scatterpolar": [
           {
            "marker": {
             "colorbar": {
              "outlinewidth": 0,
              "ticks": ""
             }
            },
            "type": "scatterpolar"
           }
          ],
          "scatterpolargl": [
           {
            "marker": {
             "colorbar": {
              "outlinewidth": 0,
              "ticks": ""
             }
            },
            "type": "scatterpolargl"
           }
          ],
          "scatterternary": [
           {
            "marker": {
             "colorbar": {
              "outlinewidth": 0,
              "ticks": ""
             }
            },
            "type": "scatterternary"
           }
          ],
          "surface": [
           {
            "colorbar": {
             "outlinewidth": 0,
             "ticks": ""
            },
            "colorscale": [
             [
              0,
              "#0d0887"
             ],
             [
              0.1111111111111111,
              "#46039f"
             ],
             [
              0.2222222222222222,
              "#7201a8"
             ],
             [
              0.3333333333333333,
              "#9c179e"
             ],
             [
              0.4444444444444444,
              "#bd3786"
             ],
             [
              0.5555555555555556,
              "#d8576b"
             ],
             [
              0.6666666666666666,
              "#ed7953"
             ],
             [
              0.7777777777777778,
              "#fb9f3a"
             ],
             [
              0.8888888888888888,
              "#fdca26"
             ],
             [
              1,
              "#f0f921"
             ]
            ],
            "type": "surface"
           }
          ],
          "table": [
           {
            "cells": {
             "fill": {
              "color": "#EBF0F8"
             },
             "line": {
              "color": "white"
             }
            },
            "header": {
             "fill": {
              "color": "#C8D4E3"
             },
             "line": {
              "color": "white"
             }
            },
            "type": "table"
           }
          ]
         },
         "layout": {
          "annotationdefaults": {
           "arrowcolor": "#2a3f5f",
           "arrowhead": 0,
           "arrowwidth": 1
          },
          "coloraxis": {
           "colorbar": {
            "outlinewidth": 0,
            "ticks": ""
           }
          },
          "colorscale": {
           "diverging": [
            [
             0,
             "#8e0152"
            ],
            [
             0.1,
             "#c51b7d"
            ],
            [
             0.2,
             "#de77ae"
            ],
            [
             0.3,
             "#f1b6da"
            ],
            [
             0.4,
             "#fde0ef"
            ],
            [
             0.5,
             "#f7f7f7"
            ],
            [
             0.6,
             "#e6f5d0"
            ],
            [
             0.7,
             "#b8e186"
            ],
            [
             0.8,
             "#7fbc41"
            ],
            [
             0.9,
             "#4d9221"
            ],
            [
             1,
             "#276419"
            ]
           ],
           "sequential": [
            [
             0,
             "#0d0887"
            ],
            [
             0.1111111111111111,
             "#46039f"
            ],
            [
             0.2222222222222222,
             "#7201a8"
            ],
            [
             0.3333333333333333,
             "#9c179e"
            ],
            [
             0.4444444444444444,
             "#bd3786"
            ],
            [
             0.5555555555555556,
             "#d8576b"
            ],
            [
             0.6666666666666666,
             "#ed7953"
            ],
            [
             0.7777777777777778,
             "#fb9f3a"
            ],
            [
             0.8888888888888888,
             "#fdca26"
            ],
            [
             1,
             "#f0f921"
            ]
           ],
           "sequentialminus": [
            [
             0,
             "#0d0887"
            ],
            [
             0.1111111111111111,
             "#46039f"
            ],
            [
             0.2222222222222222,
             "#7201a8"
            ],
            [
             0.3333333333333333,
             "#9c179e"
            ],
            [
             0.4444444444444444,
             "#bd3786"
            ],
            [
             0.5555555555555556,
             "#d8576b"
            ],
            [
             0.6666666666666666,
             "#ed7953"
            ],
            [
             0.7777777777777778,
             "#fb9f3a"
            ],
            [
             0.8888888888888888,
             "#fdca26"
            ],
            [
             1,
             "#f0f921"
            ]
           ]
          },
          "colorway": [
           "#636efa",
           "#EF553B",
           "#00cc96",
           "#ab63fa",
           "#FFA15A",
           "#19d3f3",
           "#FF6692",
           "#B6E880",
           "#FF97FF",
           "#FECB52"
          ],
          "font": {
           "color": "#2a3f5f"
          },
          "geo": {
           "bgcolor": "white",
           "lakecolor": "white",
           "landcolor": "#E5ECF6",
           "showlakes": true,
           "showland": true,
           "subunitcolor": "white"
          },
          "hoverlabel": {
           "align": "left"
          },
          "hovermode": "closest",
          "mapbox": {
           "style": "light"
          },
          "paper_bgcolor": "white",
          "plot_bgcolor": "#E5ECF6",
          "polar": {
           "angularaxis": {
            "gridcolor": "white",
            "linecolor": "white",
            "ticks": ""
           },
           "bgcolor": "#E5ECF6",
           "radialaxis": {
            "gridcolor": "white",
            "linecolor": "white",
            "ticks": ""
           }
          },
          "scene": {
           "xaxis": {
            "backgroundcolor": "#E5ECF6",
            "gridcolor": "white",
            "gridwidth": 2,
            "linecolor": "white",
            "showbackground": true,
            "ticks": "",
            "zerolinecolor": "white"
           },
           "yaxis": {
            "backgroundcolor": "#E5ECF6",
            "gridcolor": "white",
            "gridwidth": 2,
            "linecolor": "white",
            "showbackground": true,
            "ticks": "",
            "zerolinecolor": "white"
           },
           "zaxis": {
            "backgroundcolor": "#E5ECF6",
            "gridcolor": "white",
            "gridwidth": 2,
            "linecolor": "white",
            "showbackground": true,
            "ticks": "",
            "zerolinecolor": "white"
           }
          },
          "shapedefaults": {
           "line": {
            "color": "#2a3f5f"
           }
          },
          "ternary": {
           "aaxis": {
            "gridcolor": "white",
            "linecolor": "white",
            "ticks": ""
           },
           "baxis": {
            "gridcolor": "white",
            "linecolor": "white",
            "ticks": ""
           },
           "bgcolor": "#E5ECF6",
           "caxis": {
            "gridcolor": "white",
            "linecolor": "white",
            "ticks": ""
           }
          },
          "title": {
           "x": 0.05
          },
          "xaxis": {
           "automargin": true,
           "gridcolor": "white",
           "linecolor": "white",
           "ticks": "",
           "title": {
            "standoff": 15
           },
           "zerolinecolor": "white",
           "zerolinewidth": 2
          },
          "yaxis": {
           "automargin": true,
           "gridcolor": "white",
           "linecolor": "white",
           "ticks": "",
           "title": {
            "standoff": 15
           },
           "zerolinecolor": "white",
           "zerolinewidth": 2
          }
         }
        },
        "title": {
         "text": "Following vs Followers"
        },
        "width": 1000,
        "xaxis": {
         "anchor": "y",
         "domain": [
          0,
          0.49
         ],
         "title": {
          "text": "Followers"
         },
         "type": "log"
        },
        "xaxis2": {
         "anchor": "y2",
         "domain": [
          0.51,
          1
         ],
         "matches": "x",
         "title": {
          "text": "follower_count"
         },
         "type": "log"
        },
        "yaxis": {
         "anchor": "x",
         "domain": [
          0,
          1
         ],
         "title": {
          "text": "Following"
         },
         "type": "log"
        },
        "yaxis2": {
         "anchor": "x2",
         "domain": [
          0,
          1
         ],
         "matches": "y",
         "showticklabels": false,
         "type": "log"
        }
       }
      }
     },
     "metadata": {}
    }
   ],
   "source": [
    "## Following vs Followers\n",
    "fig = px.scatter(followers_df, x = 'follower_count', y = 'following_count',color = 'account_age_days',facet_col='description_empty',log_x=True,log_y=True)\n",
    "\n",
    "fig.update_traces(\n",
    "    marker = dict(size = 8,line = dict(width=1,color='DarkSlateGrey'))\n",
    ")\n",
    "\n",
    "fig.for_each_annotation(lambda a: a.update(text=a.text.split(\"=\")[-1]))\n",
    "\n",
    "fig.update_layout(\n",
    "    title = 'Following vs Followers',\n",
    "    xaxis_title = 'Followers',\n",
    "    yaxis_title = 'Following',\n",
    "    width = 1000,\n",
    "    height = 500\n",
    ")\n",
    "\n",
    "fig.show()"
   ]
  },
  {
   "cell_type": "code",
   "execution_count": 21,
   "metadata": {},
   "outputs": [
    {
     "output_type": "display_data",
     "data": {
      "application/vnd.plotly.v1+json": {
       "config": {
        "plotlyServerURL": "https://plot.ly"
       },
       "data": [
        {
         "marker": {
          "color": [
           376,
           -1,
           359,
           94,
           -1,
           14,
           70,
           80,
           -1,
           -1,
           2,
           39,
           3024,
           35,
           2,
           0,
           127,
           -1,
           15,
           93,
           379,
           3,
           1832,
           3168,
           -1,
           0,
           375,
           1,
           -1,
           121,
           3296,
           -1,
           63,
           2,
           -1,
           2653,
           1,
           84,
           -1,
           71,
           -1,
           2549,
           -1,
           26,
           164,
           397,
           -1,
           -1,
           -1,
           160,
           21,
           0,
           65,
           -1,
           -1,
           1,
           -1,
           -1,
           0,
           0,
           1,
           -1,
           341,
           -1,
           20,
           512,
           2261,
           0,
           2364,
           -1,
           19,
           -1,
           40,
           1,
           115,
           1166,
           198,
           3141,
           24,
           1953,
           -1,
           122,
           0,
           -1,
           1526,
           10,
           -1,
           0,
           3398,
           8,
           0,
           2,
           147,
           52,
           61,
           27,
           2288,
           361,
           2399,
           0,
           20,
           451,
           500,
           1248,
           96,
           1868,
           23,
           2308,
           0,
           3644,
           0,
           78,
           0,
           0,
           3536,
           274,
           63,
           0,
           2604,
           0,
           8,
           252,
           2728,
           0,
           742,
           3408,
           0,
           853,
           3507,
           2,
           2664,
           1601,
           0,
           0,
           0,
           777,
           99,
           0,
           6,
           102,
           0,
           0,
           93,
           1,
           22,
           0,
           3215,
           1183,
           441,
           0,
           83,
           4,
           0,
           0,
           0,
           0,
           322,
           95,
           58,
           9,
           2749,
           0,
           0,
           385,
           0,
           80,
           13,
           0,
           2845,
           2,
           0,
           5,
           0,
           78,
           333,
           21,
           0,
           0,
           26,
           3551,
           17,
           11,
           2,
           86,
           328,
           116,
           0,
           24,
           3031,
           1442,
           2981,
           381,
           0,
           0,
           3690,
           54,
           359,
           2617,
           2767,
           0,
           53,
           3239,
           1,
           0,
           1411,
           12,
           514,
           17,
           54,
           0,
           0,
           2077,
           1,
           380,
           0,
           0,
           0,
           286,
           204,
           589,
           1728,
           2,
           95,
           89,
           86,
           270,
           0,
           1394,
           1038,
           11,
           87,
           0,
           22,
           14,
           0,
           165,
           273,
           0,
           83,
           92,
           2174,
           368,
           1,
           1021,
           0,
           26,
           0,
           1,
           60,
           131,
           229,
           1789,
           0,
           0,
           0,
           1560,
           0,
           0,
           0,
           0,
           0,
           0,
           96,
           3717,
           3,
           24,
           286,
           355,
           51,
           0,
           671,
           13,
           3,
           0,
           5,
           2057,
           12,
           80,
           0,
           11,
           6,
           0,
           0,
           86,
           3,
           379,
           1,
           0,
           63,
           2,
           7,
           0,
           0,
           5,
           0,
           331,
           0,
           5,
           0,
           15
          ],
          "line": {
           "color": "DarkSlateGrey",
           "width": 1
          },
          "size": 8
         },
         "mode": "markers",
         "type": "scatter",
         "x": [
          376,
          -1,
          359,
          94,
          -1,
          14,
          70,
          80,
          -1,
          -1,
          2,
          39,
          3024,
          35,
          2,
          0,
          127,
          -1,
          15,
          93,
          379,
          3,
          1832,
          3168,
          -1,
          0,
          375,
          1,
          -1,
          121,
          3296,
          -1,
          63,
          2,
          -1,
          2653,
          1,
          84,
          -1,
          71,
          -1,
          2549,
          -1,
          26,
          164,
          397,
          -1,
          -1,
          -1,
          160,
          21,
          0,
          65,
          -1,
          -1,
          1,
          -1,
          -1,
          0,
          0,
          1,
          -1,
          341,
          -1,
          20,
          512,
          2261,
          0,
          2364,
          -1,
          19,
          -1,
          40,
          1,
          115,
          1166,
          198,
          3141,
          24,
          1953,
          -1,
          122,
          0,
          -1,
          1526,
          10,
          -1,
          0,
          3398,
          8,
          0,
          2,
          147,
          52,
          61,
          27,
          2288,
          361,
          2399,
          0,
          20,
          451,
          500,
          1248,
          96,
          1868,
          23,
          2308,
          0,
          3644,
          0,
          78,
          0,
          0,
          3536,
          274,
          63,
          0,
          2604,
          0,
          8,
          252,
          2728,
          0,
          742,
          3408,
          0,
          853,
          3507,
          2,
          2664,
          1601,
          0,
          0,
          0,
          777,
          99,
          0,
          6,
          102,
          0,
          0,
          93,
          1,
          22,
          0,
          3215,
          1183,
          441,
          0,
          83,
          4,
          0,
          0,
          0,
          0,
          322,
          95,
          58,
          9,
          2749,
          0,
          0,
          385,
          0,
          80,
          13,
          0,
          2845,
          2,
          0,
          5,
          0,
          78,
          333,
          21,
          0,
          0,
          26,
          3551,
          17,
          11,
          2,
          86,
          328,
          116,
          0,
          24,
          3031,
          1442,
          2981,
          381,
          0,
          0,
          3690,
          54,
          359,
          2617,
          2767,
          0,
          53,
          3239,
          1,
          0,
          1411,
          12,
          514,
          17,
          54,
          0,
          0,
          2077,
          1,
          380,
          0,
          0,
          0,
          286,
          204,
          589,
          1728,
          2,
          95,
          89,
          86,
          270,
          0,
          1394,
          1038,
          11,
          87,
          0,
          22,
          14,
          0,
          165,
          273,
          0,
          83,
          92,
          2174,
          368,
          1,
          1021,
          0,
          26,
          0,
          1,
          60,
          131,
          229,
          1789,
          0,
          0,
          0,
          1560,
          0,
          0,
          0,
          0,
          0,
          0,
          96,
          3717,
          3,
          24,
          286,
          355,
          51,
          0,
          671,
          13,
          3,
          0,
          5,
          2057,
          12,
          80,
          0,
          11,
          6,
          0,
          0,
          86,
          3,
          379,
          1,
          0,
          63,
          2,
          7,
          0,
          0,
          5,
          0,
          331,
          0,
          5,
          0,
          15
         ],
         "xaxis": "x",
         "y": [
          3,
          1,
          1,
          0,
          1,
          124,
          0,
          1,
          0,
          1,
          3,
          2,
          79,
          0,
          0,
          1,
          21,
          0,
          1,
          0,
          4,
          0,
          6,
          15,
          0,
          0,
          1,
          0,
          0,
          5,
          6,
          0,
          1,
          8,
          0,
          7,
          0,
          0,
          0,
          0,
          0,
          16,
          0,
          21,
          0,
          18,
          0,
          0,
          0,
          0,
          3,
          1,
          0,
          0,
          9,
          0,
          0,
          2,
          0,
          1,
          0,
          12,
          14,
          0,
          14,
          59,
          24,
          0,
          1032,
          0,
          1,
          2,
          0,
          0,
          0,
          2179,
          1,
          67,
          0,
          12,
          8,
          24,
          0,
          0,
          51,
          0,
          1,
          0,
          270,
          1,
          2,
          3,
          3,
          0,
          7,
          0,
          5,
          1,
          18,
          2,
          0,
          1,
          9,
          29,
          0,
          28,
          4,
          10,
          0,
          110,
          4,
          2,
          2,
          1,
          19,
          8,
          55,
          0,
          16,
          0,
          7,
          62,
          6,
          0,
          2,
          28,
          0,
          2,
          0,
          1,
          59,
          16,
          1,
          0,
          0,
          13,
          2,
          2,
          2,
          0,
          1,
          2,
          0,
          0,
          3,
          0,
          0,
          7,
          5,
          1,
          9,
          7,
          1,
          0,
          0,
          1,
          7,
          2,
          6,
          0,
          55,
          0,
          0,
          3,
          0,
          0,
          1,
          0,
          68,
          1,
          1,
          4,
          1,
          0,
          25,
          0,
          0,
          3,
          3,
          13,
          0,
          0,
          0,
          2,
          2,
          1,
          1,
          0,
          23,
          11,
          4,
          1,
          2,
          0,
          47,
          1,
          0,
          33,
          4,
          0,
          1,
          41,
          41,
          0,
          3,
          0,
          4,
          178,
          1,
          0,
          1,
          26,
          18,
          0,
          2,
          0,
          5,
          0,
          260,
          6,
          0,
          1,
          3,
          2,
          1,
          15,
          0,
          4,
          14,
          1,
          0,
          0,
          2,
          2,
          0,
          0,
          64,
          1,
          0,
          2,
          13,
          33,
          0,
          5,
          0,
          0,
          1,
          1,
          0,
          21,
          1,
          227,
          0,
          0,
          0,
          10,
          0,
          0,
          0,
          13,
          6,
          0,
          2,
          145,
          0,
          0,
          0,
          1,
          0,
          0,
          40,
          0,
          1,
          4,
          0,
          0,
          0,
          3,
          0,
          26,
          0,
          0,
          31,
          0,
          0,
          0,
          1,
          4,
          7,
          0,
          1,
          1,
          1,
          1,
          2,
          1,
          0,
          0,
          0,
          1
         ],
         "yaxis": "y"
        },
        {
         "marker": {
          "color": [
           376,
           -1,
           359,
           94,
           -1,
           14,
           70,
           80,
           -1,
           -1,
           2,
           39,
           3024,
           35,
           2,
           0,
           127,
           -1,
           15,
           93,
           379,
           3,
           1832,
           3168,
           -1,
           0,
           375,
           1,
           -1,
           121,
           3296,
           -1,
           63,
           2,
           -1,
           2653,
           1,
           84,
           -1,
           71,
           -1,
           2549,
           -1,
           26,
           164,
           397,
           -1,
           -1,
           -1,
           160,
           21,
           0,
           65,
           -1,
           -1,
           1,
           -1,
           -1,
           0,
           0,
           1,
           -1,
           341,
           -1,
           20,
           512,
           2261,
           0,
           2364,
           -1,
           19,
           -1,
           40,
           1,
           115,
           1166,
           198,
           3141,
           24,
           1953,
           -1,
           122,
           0,
           -1,
           1526,
           10,
           -1,
           0,
           3398,
           8,
           0,
           2,
           147,
           52,
           61,
           27,
           2288,
           361,
           2399,
           0,
           20,
           451,
           500,
           1248,
           96,
           1868,
           23,
           2308,
           0,
           3644,
           0,
           78,
           0,
           0,
           3536,
           274,
           63,
           0,
           2604,
           0,
           8,
           252,
           2728,
           0,
           742,
           3408,
           0,
           853,
           3507,
           2,
           2664,
           1601,
           0,
           0,
           0,
           777,
           99,
           0,
           6,
           102,
           0,
           0,
           93,
           1,
           22,
           0,
           3215,
           1183,
           441,
           0,
           83,
           4,
           0,
           0,
           0,
           0,
           322,
           95,
           58,
           9,
           2749,
           0,
           0,
           385,
           0,
           80,
           13,
           0,
           2845,
           2,
           0,
           5,
           0,
           78,
           333,
           21,
           0,
           0,
           26,
           3551,
           17,
           11,
           2,
           86,
           328,
           116,
           0,
           24,
           3031,
           1442,
           2981,
           381,
           0,
           0,
           3690,
           54,
           359,
           2617,
           2767,
           0,
           53,
           3239,
           1,
           0,
           1411,
           12,
           514,
           17,
           54,
           0,
           0,
           2077,
           1,
           380,
           0,
           0,
           0,
           286,
           204,
           589,
           1728,
           2,
           95,
           89,
           86,
           270,
           0,
           1394,
           1038,
           11,
           87,
           0,
           22,
           14,
           0,
           165,
           273,
           0,
           83,
           92,
           2174,
           368,
           1,
           1021,
           0,
           26,
           0,
           1,
           60,
           131,
           229,
           1789,
           0,
           0,
           0,
           1560,
           0,
           0,
           0,
           0,
           0,
           0,
           96,
           3717,
           3,
           24,
           286,
           355,
           51,
           0,
           671,
           13,
           3,
           0,
           5,
           2057,
           12,
           80,
           0,
           11,
           6,
           0,
           0,
           86,
           3,
           379,
           1,
           0,
           63,
           2,
           7,
           0,
           0,
           5,
           0,
           331,
           0,
           5,
           0,
           15
          ],
          "line": {
           "color": "DarkSlateGrey",
           "width": 1
          },
          "size": 8
         },
         "mode": "markers",
         "type": "scatter",
         "x": [
          376,
          -1,
          359,
          94,
          -1,
          14,
          70,
          80,
          -1,
          -1,
          2,
          39,
          3024,
          35,
          2,
          0,
          127,
          -1,
          15,
          93,
          379,
          3,
          1832,
          3168,
          -1,
          0,
          375,
          1,
          -1,
          121,
          3296,
          -1,
          63,
          2,
          -1,
          2653,
          1,
          84,
          -1,
          71,
          -1,
          2549,
          -1,
          26,
          164,
          397,
          -1,
          -1,
          -1,
          160,
          21,
          0,
          65,
          -1,
          -1,
          1,
          -1,
          -1,
          0,
          0,
          1,
          -1,
          341,
          -1,
          20,
          512,
          2261,
          0,
          2364,
          -1,
          19,
          -1,
          40,
          1,
          115,
          1166,
          198,
          3141,
          24,
          1953,
          -1,
          122,
          0,
          -1,
          1526,
          10,
          -1,
          0,
          3398,
          8,
          0,
          2,
          147,
          52,
          61,
          27,
          2288,
          361,
          2399,
          0,
          20,
          451,
          500,
          1248,
          96,
          1868,
          23,
          2308,
          0,
          3644,
          0,
          78,
          0,
          0,
          3536,
          274,
          63,
          0,
          2604,
          0,
          8,
          252,
          2728,
          0,
          742,
          3408,
          0,
          853,
          3507,
          2,
          2664,
          1601,
          0,
          0,
          0,
          777,
          99,
          0,
          6,
          102,
          0,
          0,
          93,
          1,
          22,
          0,
          3215,
          1183,
          441,
          0,
          83,
          4,
          0,
          0,
          0,
          0,
          322,
          95,
          58,
          9,
          2749,
          0,
          0,
          385,
          0,
          80,
          13,
          0,
          2845,
          2,
          0,
          5,
          0,
          78,
          333,
          21,
          0,
          0,
          26,
          3551,
          17,
          11,
          2,
          86,
          328,
          116,
          0,
          24,
          3031,
          1442,
          2981,
          381,
          0,
          0,
          3690,
          54,
          359,
          2617,
          2767,
          0,
          53,
          3239,
          1,
          0,
          1411,
          12,
          514,
          17,
          54,
          0,
          0,
          2077,
          1,
          380,
          0,
          0,
          0,
          286,
          204,
          589,
          1728,
          2,
          95,
          89,
          86,
          270,
          0,
          1394,
          1038,
          11,
          87,
          0,
          22,
          14,
          0,
          165,
          273,
          0,
          83,
          92,
          2174,
          368,
          1,
          1021,
          0,
          26,
          0,
          1,
          60,
          131,
          229,
          1789,
          0,
          0,
          0,
          1560,
          0,
          0,
          0,
          0,
          0,
          0,
          96,
          3717,
          3,
          24,
          286,
          355,
          51,
          0,
          671,
          13,
          3,
          0,
          5,
          2057,
          12,
          80,
          0,
          11,
          6,
          0,
          0,
          86,
          3,
          379,
          1,
          0,
          63,
          2,
          7,
          0,
          0,
          5,
          0,
          331,
          0,
          5,
          0,
          15
         ],
         "xaxis": "x2",
         "y": [
          26,
          15,
          106,
          36,
          102,
          686,
          32,
          55,
          13,
          43,
          81,
          49,
          594,
          10,
          32,
          63,
          76,
          92,
          35,
          29,
          17,
          59,
          30,
          115,
          26,
          20,
          32,
          4,
          40,
          17,
          154,
          78,
          54,
          47,
          68,
          17,
          25,
          31,
          11,
          9,
          26,
          43,
          25,
          40,
          50,
          150,
          126,
          24,
          5,
          158,
          86,
          12,
          10,
          34,
          154,
          12,
          31,
          32,
          16,
          35,
          38,
          85,
          157,
          43,
          61,
          100,
          125,
          21,
          488,
          58,
          60,
          37,
          11,
          22,
          27,
          2355,
          31,
          782,
          34,
          75,
          70,
          59,
          36,
          107,
          291,
          11,
          126,
          25,
          436,
          24,
          80,
          26,
          66,
          46,
          55,
          2,
          32,
          28,
          91,
          42,
          25,
          11,
          71,
          47,
          51,
          202,
          38,
          96,
          10,
          604,
          79,
          28,
          62,
          49,
          357,
          35,
          78,
          47,
          19,
          23,
          31,
          122,
          106,
          19,
          19,
          250,
          18,
          215,
          4,
          13,
          67,
          54,
          32,
          5,
          40,
          65,
          27,
          213,
          39,
          34,
          15,
          83,
          19,
          36,
          60,
          13,
          18,
          117,
          38,
          138,
          62,
          56,
          70,
          17,
          40,
          38,
          140,
          32,
          25,
          16,
          879,
          100,
          69,
          53,
          42,
          13,
          45,
          30,
          290,
          31,
          49,
          127,
          27,
          65,
          241,
          8,
          36,
          232,
          36,
          243,
          75,
          30,
          5,
          56,
          35,
          9,
          90,
          12,
          455,
          251,
          100,
          81,
          116,
          100,
          422,
          38,
          7,
          72,
          61,
          38,
          55,
          173,
          721,
          103,
          53,
          22,
          20,
          921,
          39,
          18,
          117,
          253,
          439,
          23,
          34,
          101,
          354,
          45,
          429,
          225,
          46,
          37,
          89,
          13,
          46,
          304,
          23,
          62,
          215,
          12,
          46,
          25,
          27,
          40,
          69,
          16,
          180,
          14,
          55,
          24,
          99,
          49,
          121,
          55,
          37,
          43,
          103,
          55,
          14,
          75,
          43,
          96,
          10,
          81,
          70,
          78,
          51,
          20,
          84,
          112,
          274,
          14,
          28,
          436,
          31,
          8,
          162,
          36,
          12,
          20,
          163,
          62,
          13,
          170,
          91,
          111,
          40,
          100,
          20,
          68,
          5,
          24,
          188,
          66,
          23,
          8,
          33,
          44,
          95,
          43,
          53,
          42,
          74,
          17,
          83,
          16,
          54,
          28,
          16,
          37
         ],
         "yaxis": "y2"
        },
        {
         "marker": {
          "color": [
           376,
           -1,
           359,
           94,
           -1,
           14,
           70,
           80,
           -1,
           -1,
           2,
           39,
           3024,
           35,
           2,
           0,
           127,
           -1,
           15,
           93,
           379,
           3,
           1832,
           3168,
           -1,
           0,
           375,
           1,
           -1,
           121,
           3296,
           -1,
           63,
           2,
           -1,
           2653,
           1,
           84,
           -1,
           71,
           -1,
           2549,
           -1,
           26,
           164,
           397,
           -1,
           -1,
           -1,
           160,
           21,
           0,
           65,
           -1,
           -1,
           1,
           -1,
           -1,
           0,
           0,
           1,
           -1,
           341,
           -1,
           20,
           512,
           2261,
           0,
           2364,
           -1,
           19,
           -1,
           40,
           1,
           115,
           1166,
           198,
           3141,
           24,
           1953,
           -1,
           122,
           0,
           -1,
           1526,
           10,
           -1,
           0,
           3398,
           8,
           0,
           2,
           147,
           52,
           61,
           27,
           2288,
           361,
           2399,
           0,
           20,
           451,
           500,
           1248,
           96,
           1868,
           23,
           2308,
           0,
           3644,
           0,
           78,
           0,
           0,
           3536,
           274,
           63,
           0,
           2604,
           0,
           8,
           252,
           2728,
           0,
           742,
           3408,
           0,
           853,
           3507,
           2,
           2664,
           1601,
           0,
           0,
           0,
           777,
           99,
           0,
           6,
           102,
           0,
           0,
           93,
           1,
           22,
           0,
           3215,
           1183,
           441,
           0,
           83,
           4,
           0,
           0,
           0,
           0,
           322,
           95,
           58,
           9,
           2749,
           0,
           0,
           385,
           0,
           80,
           13,
           0,
           2845,
           2,
           0,
           5,
           0,
           78,
           333,
           21,
           0,
           0,
           26,
           3551,
           17,
           11,
           2,
           86,
           328,
           116,
           0,
           24,
           3031,
           1442,
           2981,
           381,
           0,
           0,
           3690,
           54,
           359,
           2617,
           2767,
           0,
           53,
           3239,
           1,
           0,
           1411,
           12,
           514,
           17,
           54,
           0,
           0,
           2077,
           1,
           380,
           0,
           0,
           0,
           286,
           204,
           589,
           1728,
           2,
           95,
           89,
           86,
           270,
           0,
           1394,
           1038,
           11,
           87,
           0,
           22,
           14,
           0,
           165,
           273,
           0,
           83,
           92,
           2174,
           368,
           1,
           1021,
           0,
           26,
           0,
           1,
           60,
           131,
           229,
           1789,
           0,
           0,
           0,
           1560,
           0,
           0,
           0,
           0,
           0,
           0,
           96,
           3717,
           3,
           24,
           286,
           355,
           51,
           0,
           671,
           13,
           3,
           0,
           5,
           2057,
           12,
           80,
           0,
           11,
           6,
           0,
           0,
           86,
           3,
           379,
           1,
           0,
           63,
           2,
           7,
           0,
           0,
           5,
           0,
           331,
           0,
           5,
           0,
           15
          ],
          "line": {
           "color": "DarkSlateGrey",
           "width": 1
          },
          "size": 8
         },
         "mode": "markers",
         "type": "scatter",
         "x": [
          376,
          -1,
          359,
          94,
          -1,
          14,
          70,
          80,
          -1,
          -1,
          2,
          39,
          3024,
          35,
          2,
          0,
          127,
          -1,
          15,
          93,
          379,
          3,
          1832,
          3168,
          -1,
          0,
          375,
          1,
          -1,
          121,
          3296,
          -1,
          63,
          2,
          -1,
          2653,
          1,
          84,
          -1,
          71,
          -1,
          2549,
          -1,
          26,
          164,
          397,
          -1,
          -1,
          -1,
          160,
          21,
          0,
          65,
          -1,
          -1,
          1,
          -1,
          -1,
          0,
          0,
          1,
          -1,
          341,
          -1,
          20,
          512,
          2261,
          0,
          2364,
          -1,
          19,
          -1,
          40,
          1,
          115,
          1166,
          198,
          3141,
          24,
          1953,
          -1,
          122,
          0,
          -1,
          1526,
          10,
          -1,
          0,
          3398,
          8,
          0,
          2,
          147,
          52,
          61,
          27,
          2288,
          361,
          2399,
          0,
          20,
          451,
          500,
          1248,
          96,
          1868,
          23,
          2308,
          0,
          3644,
          0,
          78,
          0,
          0,
          3536,
          274,
          63,
          0,
          2604,
          0,
          8,
          252,
          2728,
          0,
          742,
          3408,
          0,
          853,
          3507,
          2,
          2664,
          1601,
          0,
          0,
          0,
          777,
          99,
          0,
          6,
          102,
          0,
          0,
          93,
          1,
          22,
          0,
          3215,
          1183,
          441,
          0,
          83,
          4,
          0,
          0,
          0,
          0,
          322,
          95,
          58,
          9,
          2749,
          0,
          0,
          385,
          0,
          80,
          13,
          0,
          2845,
          2,
          0,
          5,
          0,
          78,
          333,
          21,
          0,
          0,
          26,
          3551,
          17,
          11,
          2,
          86,
          328,
          116,
          0,
          24,
          3031,
          1442,
          2981,
          381,
          0,
          0,
          3690,
          54,
          359,
          2617,
          2767,
          0,
          53,
          3239,
          1,
          0,
          1411,
          12,
          514,
          17,
          54,
          0,
          0,
          2077,
          1,
          380,
          0,
          0,
          0,
          286,
          204,
          589,
          1728,
          2,
          95,
          89,
          86,
          270,
          0,
          1394,
          1038,
          11,
          87,
          0,
          22,
          14,
          0,
          165,
          273,
          0,
          83,
          92,
          2174,
          368,
          1,
          1021,
          0,
          26,
          0,
          1,
          60,
          131,
          229,
          1789,
          0,
          0,
          0,
          1560,
          0,
          0,
          0,
          0,
          0,
          0,
          96,
          3717,
          3,
          24,
          286,
          355,
          51,
          0,
          671,
          13,
          3,
          0,
          5,
          2057,
          12,
          80,
          0,
          11,
          6,
          0,
          0,
          86,
          3,
          379,
          1,
          0,
          63,
          2,
          7,
          0,
          0,
          5,
          0,
          331,
          0,
          5,
          0,
          15
         ],
         "xaxis": "x3",
         "y": [
          152,
          0,
          30,
          0,
          0,
          58,
          0,
          0,
          0,
          3,
          0,
          3,
          286,
          3,
          0,
          0,
          172,
          0,
          2,
          0,
          68,
          0,
          224,
          8,
          0,
          0,
          2,
          0,
          0,
          5,
          67,
          0,
          4,
          1,
          0,
          6,
          0,
          1,
          4,
          0,
          0,
          0,
          0,
          58,
          6,
          58,
          0,
          0,
          6,
          2,
          2,
          0,
          0,
          0,
          74,
          1,
          2,
          8,
          3,
          1,
          0,
          2,
          371,
          0,
          3,
          222,
          1509,
          13,
          8302,
          0,
          0,
          0,
          4,
          0,
          144,
          11211,
          0,
          1323,
          0,
          32,
          26,
          28,
          0,
          0,
          826,
          2,
          0,
          0,
          1104,
          4,
          0,
          8,
          0,
          2,
          15,
          1,
          0,
          0,
          57,
          4,
          0,
          0,
          10,
          0,
          0,
          110,
          153,
          11,
          0,
          694,
          77,
          1,
          2,
          0,
          14,
          26,
          22,
          0,
          40,
          0,
          12,
          442,
          16,
          1,
          31,
          55,
          0,
          1,
          0,
          0,
          291,
          76,
          0,
          2,
          0,
          1681,
          0,
          0,
          7,
          10,
          0,
          0,
          1,
          2,
          198,
          0,
          0,
          13,
          8,
          18,
          0,
          4,
          0,
          3,
          0,
          7,
          1187,
          4,
          315,
          0,
          678,
          0,
          0,
          3,
          0,
          12,
          0,
          17,
          1097,
          6,
          0,
          0,
          3,
          0,
          73,
          1,
          0,
          0,
          0,
          18,
          0,
          0,
          2,
          3,
          0,
          4,
          0,
          2,
          2274,
          8,
          207,
          3,
          2,
          1,
          96,
          0,
          57,
          86,
          3,
          3,
          0,
          34,
          107,
          3,
          1,
          3,
          156,
          412,
          10,
          0,
          0,
          1021,
          0,
          0,
          0,
          0,
          1,
          6,
          1678,
          11,
          1,
          22,
          0,
          1,
          0,
          8,
          0,
          0,
          90,
          4,
          9,
          0,
          29,
          0,
          0,
          0,
          1072,
          0,
          0,
          18,
          11,
          1253,
          2,
          37,
          0,
          0,
          0,
          4,
          5,
          220,
          5,
          169,
          0,
          0,
          0,
          16,
          0,
          0,
          0,
          3,
          0,
          1,
          0,
          5281,
          13,
          3,
          9,
          0,
          25,
          0,
          131,
          1,
          0,
          32,
          4,
          0,
          16,
          0,
          0,
          4,
          0,
          0,
          0,
          1,
          0,
          43,
          1,
          0,
          0,
          1,
          0,
          12,
          1,
          1,
          0,
          1,
          47,
          0,
          0,
          5
         ],
         "yaxis": "y3"
        },
        {
         "marker": {
          "color": [
           376,
           -1,
           359,
           94,
           -1,
           14,
           70,
           80,
           -1,
           -1,
           2,
           39,
           3024,
           35,
           2,
           0,
           127,
           -1,
           15,
           93,
           379,
           3,
           1832,
           3168,
           -1,
           0,
           375,
           1,
           -1,
           121,
           3296,
           -1,
           63,
           2,
           -1,
           2653,
           1,
           84,
           -1,
           71,
           -1,
           2549,
           -1,
           26,
           164,
           397,
           -1,
           -1,
           -1,
           160,
           21,
           0,
           65,
           -1,
           -1,
           1,
           -1,
           -1,
           0,
           0,
           1,
           -1,
           341,
           -1,
           20,
           512,
           2261,
           0,
           2364,
           -1,
           19,
           -1,
           40,
           1,
           115,
           1166,
           198,
           3141,
           24,
           1953,
           -1,
           122,
           0,
           -1,
           1526,
           10,
           -1,
           0,
           3398,
           8,
           0,
           2,
           147,
           52,
           61,
           27,
           2288,
           361,
           2399,
           0,
           20,
           451,
           500,
           1248,
           96,
           1868,
           23,
           2308,
           0,
           3644,
           0,
           78,
           0,
           0,
           3536,
           274,
           63,
           0,
           2604,
           0,
           8,
           252,
           2728,
           0,
           742,
           3408,
           0,
           853,
           3507,
           2,
           2664,
           1601,
           0,
           0,
           0,
           777,
           99,
           0,
           6,
           102,
           0,
           0,
           93,
           1,
           22,
           0,
           3215,
           1183,
           441,
           0,
           83,
           4,
           0,
           0,
           0,
           0,
           322,
           95,
           58,
           9,
           2749,
           0,
           0,
           385,
           0,
           80,
           13,
           0,
           2845,
           2,
           0,
           5,
           0,
           78,
           333,
           21,
           0,
           0,
           26,
           3551,
           17,
           11,
           2,
           86,
           328,
           116,
           0,
           24,
           3031,
           1442,
           2981,
           381,
           0,
           0,
           3690,
           54,
           359,
           2617,
           2767,
           0,
           53,
           3239,
           1,
           0,
           1411,
           12,
           514,
           17,
           54,
           0,
           0,
           2077,
           1,
           380,
           0,
           0,
           0,
           286,
           204,
           589,
           1728,
           2,
           95,
           89,
           86,
           270,
           0,
           1394,
           1038,
           11,
           87,
           0,
           22,
           14,
           0,
           165,
           273,
           0,
           83,
           92,
           2174,
           368,
           1,
           1021,
           0,
           26,
           0,
           1,
           60,
           131,
           229,
           1789,
           0,
           0,
           0,
           1560,
           0,
           0,
           0,
           0,
           0,
           0,
           96,
           3717,
           3,
           24,
           286,
           355,
           51,
           0,
           671,
           13,
           3,
           0,
           5,
           2057,
           12,
           80,
           0,
           11,
           6,
           0,
           0,
           86,
           3,
           379,
           1,
           0,
           63,
           2,
           7,
           0,
           0,
           5,
           0,
           331,
           0,
           5,
           0,
           15
          ],
          "line": {
           "color": "DarkSlateGrey",
           "width": 1
          },
          "size": 8
         },
         "mode": "markers",
         "type": "scatter",
         "x": [
          376,
          -1,
          359,
          94,
          -1,
          14,
          70,
          80,
          -1,
          -1,
          2,
          39,
          3024,
          35,
          2,
          0,
          127,
          -1,
          15,
          93,
          379,
          3,
          1832,
          3168,
          -1,
          0,
          375,
          1,
          -1,
          121,
          3296,
          -1,
          63,
          2,
          -1,
          2653,
          1,
          84,
          -1,
          71,
          -1,
          2549,
          -1,
          26,
          164,
          397,
          -1,
          -1,
          -1,
          160,
          21,
          0,
          65,
          -1,
          -1,
          1,
          -1,
          -1,
          0,
          0,
          1,
          -1,
          341,
          -1,
          20,
          512,
          2261,
          0,
          2364,
          -1,
          19,
          -1,
          40,
          1,
          115,
          1166,
          198,
          3141,
          24,
          1953,
          -1,
          122,
          0,
          -1,
          1526,
          10,
          -1,
          0,
          3398,
          8,
          0,
          2,
          147,
          52,
          61,
          27,
          2288,
          361,
          2399,
          0,
          20,
          451,
          500,
          1248,
          96,
          1868,
          23,
          2308,
          0,
          3644,
          0,
          78,
          0,
          0,
          3536,
          274,
          63,
          0,
          2604,
          0,
          8,
          252,
          2728,
          0,
          742,
          3408,
          0,
          853,
          3507,
          2,
          2664,
          1601,
          0,
          0,
          0,
          777,
          99,
          0,
          6,
          102,
          0,
          0,
          93,
          1,
          22,
          0,
          3215,
          1183,
          441,
          0,
          83,
          4,
          0,
          0,
          0,
          0,
          322,
          95,
          58,
          9,
          2749,
          0,
          0,
          385,
          0,
          80,
          13,
          0,
          2845,
          2,
          0,
          5,
          0,
          78,
          333,
          21,
          0,
          0,
          26,
          3551,
          17,
          11,
          2,
          86,
          328,
          116,
          0,
          24,
          3031,
          1442,
          2981,
          381,
          0,
          0,
          3690,
          54,
          359,
          2617,
          2767,
          0,
          53,
          3239,
          1,
          0,
          1411,
          12,
          514,
          17,
          54,
          0,
          0,
          2077,
          1,
          380,
          0,
          0,
          0,
          286,
          204,
          589,
          1728,
          2,
          95,
          89,
          86,
          270,
          0,
          1394,
          1038,
          11,
          87,
          0,
          22,
          14,
          0,
          165,
          273,
          0,
          83,
          92,
          2174,
          368,
          1,
          1021,
          0,
          26,
          0,
          1,
          60,
          131,
          229,
          1789,
          0,
          0,
          0,
          1560,
          0,
          0,
          0,
          0,
          0,
          0,
          96,
          3717,
          3,
          24,
          286,
          355,
          51,
          0,
          671,
          13,
          3,
          0,
          5,
          2057,
          12,
          80,
          0,
          11,
          6,
          0,
          0,
          86,
          3,
          379,
          1,
          0,
          63,
          2,
          7,
          0,
          0,
          5,
          0,
          331,
          0,
          5,
          0,
          15
         ],
         "xaxis": "x4",
         "y": [
          646,
          1,
          143,
          88,
          0,
          135,
          19,
          6,
          0,
          2,
          2,
          26,
          874,
          18,
          0,
          0,
          219,
          0,
          14,
          2,
          241,
          0,
          7,
          88,
          7,
          0,
          28,
          0,
          0,
          2,
          46,
          1,
          56,
          5,
          0,
          5,
          0,
          1,
          0,
          1,
          9,
          1,
          0,
          920,
          4,
          239,
          1,
          9,
          0,
          0,
          2153,
          3,
          54,
          2,
          72,
          9,
          0,
          5,
          9,
          11,
          12,
          8,
          266,
          0,
          21,
          13448,
          2138,
          4,
          10121,
          0,
          46,
          0,
          8,
          0,
          8,
          26958,
          898,
          6413,
          0,
          77,
          73,
          609,
          0,
          4,
          18001,
          4,
          4,
          1,
          2587,
          60,
          1,
          2,
          20,
          13,
          46,
          0,
          0,
          2,
          1287,
          61,
          6,
          8,
          90,
          3972,
          4,
          46,
          308,
          12,
          0,
          73,
          98,
          139,
          0,
          3,
          21,
          27,
          48,
          0,
          6,
          0,
          19,
          485,
          7,
          4,
          0,
          240,
          0,
          64,
          0,
          1,
          1325,
          81,
          1,
          0,
          0,
          2414,
          5,
          0,
          1,
          104,
          8,
          0,
          0,
          0,
          568,
          0,
          0,
          4,
          147,
          13,
          4072,
          43,
          1,
          0,
          0,
          9,
          1543,
          42,
          364,
          2,
          36,
          0,
          0,
          1191,
          44,
          26,
          2,
          3,
          30,
          23,
          2,
          30,
          11,
          0,
          705,
          4,
          0,
          2,
          0,
          105,
          0,
          0,
          13,
          0,
          0,
          100,
          0,
          16,
          4992,
          25,
          97,
          7,
          30,
          5,
          1182,
          19,
          120,
          124,
          156,
          4,
          78,
          54,
          253,
          16,
          5,
          8,
          269,
          430,
          99,
          0,
          21,
          3174,
          131,
          0,
          0,
          0,
          1,
          17,
          18394,
          1296,
          1,
          11,
          7,
          13,
          0,
          32,
          0,
          1,
          189,
          15,
          1047,
          0,
          297,
          4,
          0,
          0,
          4338,
          0,
          24,
          335,
          392,
          2571,
          0,
          41,
          14,
          2,
          0,
          16,
          9,
          39,
          41,
          786,
          0,
          0,
          0,
          31,
          5,
          0,
          0,
          16,
          94,
          1,
          2,
          965,
          0,
          1,
          448,
          1,
          34,
          4,
          438,
          2,
          3,
          17,
          26,
          34,
          102,
          9,
          0,
          23,
          0,
          6,
          0,
          1,
          0,
          12,
          1,
          3,
          244,
          0,
          4,
          9,
          0,
          1,
          0,
          2,
          1,
          1,
          0,
          481
         ],
         "yaxis": "y4"
        }
       ],
       "layout": {
        "height": 700,
        "showlegend": false,
        "template": {
         "data": {
          "bar": [
           {
            "error_x": {
             "color": "#2a3f5f"
            },
            "error_y": {
             "color": "#2a3f5f"
            },
            "marker": {
             "line": {
              "color": "#E5ECF6",
              "width": 0.5
             }
            },
            "type": "bar"
           }
          ],
          "barpolar": [
           {
            "marker": {
             "line": {
              "color": "#E5ECF6",
              "width": 0.5
             }
            },
            "type": "barpolar"
           }
          ],
          "carpet": [
           {
            "aaxis": {
             "endlinecolor": "#2a3f5f",
             "gridcolor": "white",
             "linecolor": "white",
             "minorgridcolor": "white",
             "startlinecolor": "#2a3f5f"
            },
            "baxis": {
             "endlinecolor": "#2a3f5f",
             "gridcolor": "white",
             "linecolor": "white",
             "minorgridcolor": "white",
             "startlinecolor": "#2a3f5f"
            },
            "type": "carpet"
           }
          ],
          "choropleth": [
           {
            "colorbar": {
             "outlinewidth": 0,
             "ticks": ""
            },
            "type": "choropleth"
           }
          ],
          "contour": [
           {
            "colorbar": {
             "outlinewidth": 0,
             "ticks": ""
            },
            "colorscale": [
             [
              0,
              "#0d0887"
             ],
             [
              0.1111111111111111,
              "#46039f"
             ],
             [
              0.2222222222222222,
              "#7201a8"
             ],
             [
              0.3333333333333333,
              "#9c179e"
             ],
             [
              0.4444444444444444,
              "#bd3786"
             ],
             [
              0.5555555555555556,
              "#d8576b"
             ],
             [
              0.6666666666666666,
              "#ed7953"
             ],
             [
              0.7777777777777778,
              "#fb9f3a"
             ],
             [
              0.8888888888888888,
              "#fdca26"
             ],
             [
              1,
              "#f0f921"
             ]
            ],
            "type": "contour"
           }
          ],
          "contourcarpet": [
           {
            "colorbar": {
             "outlinewidth": 0,
             "ticks": ""
            },
            "type": "contourcarpet"
           }
          ],
          "heatmap": [
           {
            "colorbar": {
             "outlinewidth": 0,
             "ticks": ""
            },
            "colorscale": [
             [
              0,
              "#0d0887"
             ],
             [
              0.1111111111111111,
              "#46039f"
             ],
             [
              0.2222222222222222,
              "#7201a8"
             ],
             [
              0.3333333333333333,
              "#9c179e"
             ],
             [
              0.4444444444444444,
              "#bd3786"
             ],
             [
              0.5555555555555556,
              "#d8576b"
             ],
             [
              0.6666666666666666,
              "#ed7953"
             ],
             [
              0.7777777777777778,
              "#fb9f3a"
             ],
             [
              0.8888888888888888,
              "#fdca26"
             ],
             [
              1,
              "#f0f921"
             ]
            ],
            "type": "heatmap"
           }
          ],
          "heatmapgl": [
           {
            "colorbar": {
             "outlinewidth": 0,
             "ticks": ""
            },
            "colorscale": [
             [
              0,
              "#0d0887"
             ],
             [
              0.1111111111111111,
              "#46039f"
             ],
             [
              0.2222222222222222,
              "#7201a8"
             ],
             [
              0.3333333333333333,
              "#9c179e"
             ],
             [
              0.4444444444444444,
              "#bd3786"
             ],
             [
              0.5555555555555556,
              "#d8576b"
             ],
             [
              0.6666666666666666,
              "#ed7953"
             ],
             [
              0.7777777777777778,
              "#fb9f3a"
             ],
             [
              0.8888888888888888,
              "#fdca26"
             ],
             [
              1,
              "#f0f921"
             ]
            ],
            "type": "heatmapgl"
           }
          ],
          "histogram": [
           {
            "marker": {
             "colorbar": {
              "outlinewidth": 0,
              "ticks": ""
             }
            },
            "type": "histogram"
           }
          ],
          "histogram2d": [
           {
            "colorbar": {
             "outlinewidth": 0,
             "ticks": ""
            },
            "colorscale": [
             [
              0,
              "#0d0887"
             ],
             [
              0.1111111111111111,
              "#46039f"
             ],
             [
              0.2222222222222222,
              "#7201a8"
             ],
             [
              0.3333333333333333,
              "#9c179e"
             ],
             [
              0.4444444444444444,
              "#bd3786"
             ],
             [
              0.5555555555555556,
              "#d8576b"
             ],
             [
              0.6666666666666666,
              "#ed7953"
             ],
             [
              0.7777777777777778,
              "#fb9f3a"
             ],
             [
              0.8888888888888888,
              "#fdca26"
             ],
             [
              1,
              "#f0f921"
             ]
            ],
            "type": "histogram2d"
           }
          ],
          "histogram2dcontour": [
           {
            "colorbar": {
             "outlinewidth": 0,
             "ticks": ""
            },
            "colorscale": [
             [
              0,
              "#0d0887"
             ],
             [
              0.1111111111111111,
              "#46039f"
             ],
             [
              0.2222222222222222,
              "#7201a8"
             ],
             [
              0.3333333333333333,
              "#9c179e"
             ],
             [
              0.4444444444444444,
              "#bd3786"
             ],
             [
              0.5555555555555556,
              "#d8576b"
             ],
             [
              0.6666666666666666,
              "#ed7953"
             ],
             [
              0.7777777777777778,
              "#fb9f3a"
             ],
             [
              0.8888888888888888,
              "#fdca26"
             ],
             [
              1,
              "#f0f921"
             ]
            ],
            "type": "histogram2dcontour"
           }
          ],
          "mesh3d": [
           {
            "colorbar": {
             "outlinewidth": 0,
             "ticks": ""
            },
            "type": "mesh3d"
           }
          ],
          "parcoords": [
           {
            "line": {
             "colorbar": {
              "outlinewidth": 0,
              "ticks": ""
             }
            },
            "type": "parcoords"
           }
          ],
          "pie": [
           {
            "automargin": true,
            "type": "pie"
           }
          ],
          "scatter": [
           {
            "marker": {
             "colorbar": {
              "outlinewidth": 0,
              "ticks": ""
             }
            },
            "type": "scatter"
           }
          ],
          "scatter3d": [
           {
            "line": {
             "colorbar": {
              "outlinewidth": 0,
              "ticks": ""
             }
            },
            "marker": {
             "colorbar": {
              "outlinewidth": 0,
              "ticks": ""
             }
            },
            "type": "scatter3d"
           }
          ],
          "scattercarpet": [
           {
            "marker": {
             "colorbar": {
              "outlinewidth": 0,
              "ticks": ""
             }
            },
            "type": "scattercarpet"
           }
          ],
          "scattergeo": [
           {
            "marker": {
             "colorbar": {
              "outlinewidth": 0,
              "ticks": ""
             }
            },
            "type": "scattergeo"
           }
          ],
          "scattergl": [
           {
            "marker": {
             "colorbar": {
              "outlinewidth": 0,
              "ticks": ""
             }
            },
            "type": "scattergl"
           }
          ],
          "scattermapbox": [
           {
            "marker": {
             "colorbar": {
              "outlinewidth": 0,
              "ticks": ""
             }
            },
            "type": "scattermapbox"
           }
          ],
          "scatterpolar": [
           {
            "marker": {
             "colorbar": {
              "outlinewidth": 0,
              "ticks": ""
             }
            },
            "type": "scatterpolar"
           }
          ],
          "scatterpolargl": [
           {
            "marker": {
             "colorbar": {
              "outlinewidth": 0,
              "ticks": ""
             }
            },
            "type": "scatterpolargl"
           }
          ],
          "scatterternary": [
           {
            "marker": {
             "colorbar": {
              "outlinewidth": 0,
              "ticks": ""
             }
            },
            "type": "scatterternary"
           }
          ],
          "surface": [
           {
            "colorbar": {
             "outlinewidth": 0,
             "ticks": ""
            },
            "colorscale": [
             [
              0,
              "#0d0887"
             ],
             [
              0.1111111111111111,
              "#46039f"
             ],
             [
              0.2222222222222222,
              "#7201a8"
             ],
             [
              0.3333333333333333,
              "#9c179e"
             ],
             [
              0.4444444444444444,
              "#bd3786"
             ],
             [
              0.5555555555555556,
              "#d8576b"
             ],
             [
              0.6666666666666666,
              "#ed7953"
             ],
             [
              0.7777777777777778,
              "#fb9f3a"
             ],
             [
              0.8888888888888888,
              "#fdca26"
             ],
             [
              1,
              "#f0f921"
             ]
            ],
            "type": "surface"
           }
          ],
          "table": [
           {
            "cells": {
             "fill": {
              "color": "#EBF0F8"
             },
             "line": {
              "color": "white"
             }
            },
            "header": {
             "fill": {
              "color": "#C8D4E3"
             },
             "line": {
              "color": "white"
             }
            },
            "type": "table"
           }
          ]
         },
         "layout": {
          "annotationdefaults": {
           "arrowcolor": "#2a3f5f",
           "arrowhead": 0,
           "arrowwidth": 1
          },
          "coloraxis": {
           "colorbar": {
            "outlinewidth": 0,
            "ticks": ""
           }
          },
          "colorscale": {
           "diverging": [
            [
             0,
             "#8e0152"
            ],
            [
             0.1,
             "#c51b7d"
            ],
            [
             0.2,
             "#de77ae"
            ],
            [
             0.3,
             "#f1b6da"
            ],
            [
             0.4,
             "#fde0ef"
            ],
            [
             0.5,
             "#f7f7f7"
            ],
            [
             0.6,
             "#e6f5d0"
            ],
            [
             0.7,
             "#b8e186"
            ],
            [
             0.8,
             "#7fbc41"
            ],
            [
             0.9,
             "#4d9221"
            ],
            [
             1,
             "#276419"
            ]
           ],
           "sequential": [
            [
             0,
             "#0d0887"
            ],
            [
             0.1111111111111111,
             "#46039f"
            ],
            [
             0.2222222222222222,
             "#7201a8"
            ],
            [
             0.3333333333333333,
             "#9c179e"
            ],
            [
             0.4444444444444444,
             "#bd3786"
            ],
            [
             0.5555555555555556,
             "#d8576b"
            ],
            [
             0.6666666666666666,
             "#ed7953"
            ],
            [
             0.7777777777777778,
             "#fb9f3a"
            ],
            [
             0.8888888888888888,
             "#fdca26"
            ],
            [
             1,
             "#f0f921"
            ]
           ],
           "sequentialminus": [
            [
             0,
             "#0d0887"
            ],
            [
             0.1111111111111111,
             "#46039f"
            ],
            [
             0.2222222222222222,
             "#7201a8"
            ],
            [
             0.3333333333333333,
             "#9c179e"
            ],
            [
             0.4444444444444444,
             "#bd3786"
            ],
            [
             0.5555555555555556,
             "#d8576b"
            ],
            [
             0.6666666666666666,
             "#ed7953"
            ],
            [
             0.7777777777777778,
             "#fb9f3a"
            ],
            [
             0.8888888888888888,
             "#fdca26"
            ],
            [
             1,
             "#f0f921"
            ]
           ]
          },
          "colorway": [
           "#636efa",
           "#EF553B",
           "#00cc96",
           "#ab63fa",
           "#FFA15A",
           "#19d3f3",
           "#FF6692",
           "#B6E880",
           "#FF97FF",
           "#FECB52"
          ],
          "font": {
           "color": "#2a3f5f"
          },
          "geo": {
           "bgcolor": "white",
           "lakecolor": "white",
           "landcolor": "#E5ECF6",
           "showlakes": true,
           "showland": true,
           "subunitcolor": "white"
          },
          "hoverlabel": {
           "align": "left"
          },
          "hovermode": "closest",
          "mapbox": {
           "style": "light"
          },
          "paper_bgcolor": "white",
          "plot_bgcolor": "#E5ECF6",
          "polar": {
           "angularaxis": {
            "gridcolor": "white",
            "linecolor": "white",
            "ticks": ""
           },
           "bgcolor": "#E5ECF6",
           "radialaxis": {
            "gridcolor": "white",
            "linecolor": "white",
            "ticks": ""
           }
          },
          "scene": {
           "xaxis": {
            "backgroundcolor": "#E5ECF6",
            "gridcolor": "white",
            "gridwidth": 2,
            "linecolor": "white",
            "showbackground": true,
            "ticks": "",
            "zerolinecolor": "white"
           },
           "yaxis": {
            "backgroundcolor": "#E5ECF6",
            "gridcolor": "white",
            "gridwidth": 2,
            "linecolor": "white",
            "showbackground": true,
            "ticks": "",
            "zerolinecolor": "white"
           },
           "zaxis": {
            "backgroundcolor": "#E5ECF6",
            "gridcolor": "white",
            "gridwidth": 2,
            "linecolor": "white",
            "showbackground": true,
            "ticks": "",
            "zerolinecolor": "white"
           }
          },
          "shapedefaults": {
           "line": {
            "color": "#2a3f5f"
           }
          },
          "ternary": {
           "aaxis": {
            "gridcolor": "white",
            "linecolor": "white",
            "ticks": ""
           },
           "baxis": {
            "gridcolor": "white",
            "linecolor": "white",
            "ticks": ""
           },
           "bgcolor": "#E5ECF6",
           "caxis": {
            "gridcolor": "white",
            "linecolor": "white",
            "ticks": ""
           }
          },
          "title": {
           "x": 0.05
          },
          "xaxis": {
           "automargin": true,
           "gridcolor": "white",
           "linecolor": "white",
           "ticks": "",
           "title": {
            "standoff": 15
           },
           "zerolinecolor": "white",
           "zerolinewidth": 2
          },
          "yaxis": {
           "automargin": true,
           "gridcolor": "white",
           "linecolor": "white",
           "ticks": "",
           "title": {
            "standoff": 15
           },
           "zerolinecolor": "white",
           "zerolinewidth": 2
          }
         }
        },
        "title": {
         "text": "Activity vs Account Age (Days)"
        },
        "width": 1000,
        "xaxis": {
         "anchor": "y",
         "domain": [
          0,
          0.45
         ]
        },
        "xaxis2": {
         "anchor": "y2",
         "domain": [
          0.55,
          1
         ]
        },
        "xaxis3": {
         "anchor": "y3",
         "domain": [
          0,
          0.45
         ]
        },
        "xaxis4": {
         "anchor": "y4",
         "domain": [
          0.55,
          1
         ]
        },
        "yaxis": {
         "anchor": "x",
         "domain": [
          0.575,
          1
         ],
         "title": {
          "text": "Followers Count"
         }
        },
        "yaxis2": {
         "anchor": "x2",
         "domain": [
          0.575,
          1
         ],
         "title": {
          "text": "Following Count"
         }
        },
        "yaxis3": {
         "anchor": "x3",
         "domain": [
          0,
          0.425
         ],
         "title": {
          "text": "Tweets Count"
         }
        },
        "yaxis4": {
         "anchor": "x4",
         "domain": [
          0,
          0.425
         ],
         "title": {
          "text": "Favorites Count"
         }
        }
       }
      }
     },
     "metadata": {}
    }
   ],
   "source": [
    "# Numbers in Screen Name\n",
    "\n",
    "fig = make_subplots(rows = 2,cols = 2)\n",
    "## Followers\n",
    "fig.add_trace(\n",
    "    go.Scatter(\n",
    "        x = followers_df['account_age_days'],\n",
    "        y = followers_df['follower_count'],\n",
    "        mode = 'markers',\n",
    "        marker = dict(color = followers_df['account_age_days'])\n",
    "    ),\n",
    "        row = 1,\n",
    "        col = 1\n",
    ")\n",
    "## Following\n",
    "fig.add_trace(\n",
    "    go.Scatter(\n",
    "        x = followers_df['account_age_days'],\n",
    "        y = followers_df['following_count'],\n",
    "        mode = 'markers',\n",
    "        marker = dict(color = followers_df['account_age_days'])\n",
    "    ),\n",
    "        row = 1,\n",
    "        col = 2\n",
    ")\n",
    "\n",
    "## Tweets\n",
    "fig.add_trace(\n",
    "    go.Scatter(\n",
    "        x = followers_df['account_age_days'],\n",
    "        y = followers_df['tweet_count'],\n",
    "        mode = 'markers',\n",
    "        marker = dict(color = followers_df['account_age_days'])\n",
    "    ),\n",
    "        row = 2,\n",
    "        col = 1\n",
    ")\n",
    "\n",
    "## Favorites\n",
    "fig.add_trace(\n",
    "    go.Scatter(\n",
    "        x = followers_df['account_age_days'],\n",
    "        y = followers_df['favorites_count'],\n",
    "        mode = 'markers',\n",
    "        marker = dict(color = followers_df['account_age_days'])\n",
    "    ),\n",
    "        row = 2,\n",
    "        col = 2\n",
    ")\n",
    "\n",
    "## Update marker \n",
    "fig.update_traces(\n",
    "    marker = dict(size = 8,line = dict(width=1,color='DarkSlateGrey'))\n",
    ")\n",
    "\n",
    "## Update xaxis labels\n",
    "fig.update_yaxes(title='Followers Count', row = 1, col = 1)\n",
    "fig.update_yaxes(title='Following Count', row = 1, col = 2)\n",
    "fig.update_yaxes(title='Tweets Count', row = 2, col = 1)\n",
    "fig.update_yaxes(title='Favorites Count', row = 2, col = 2)\n",
    "\n",
    "## Update Title\n",
    "fig.update_layout(\n",
    "    title_text = 'Activity vs Account Age (Days)',\n",
    "    width = 1000,\n",
    "    height = 700,\n",
    "    showlegend = False)\n",
    "\n",
    "fig.show()"
   ]
  },
  {
   "cell_type": "code",
   "execution_count": 22,
   "metadata": {},
   "outputs": [],
   "source": [
    "# Count by Account Age in Hours\n",
    "df_mean =followers_df.groupby('account_age_hours').count().reset_index()"
   ]
  },
  {
   "cell_type": "code",
   "execution_count": 23,
   "metadata": {},
   "outputs": [
    {
     "output_type": "display_data",
     "data": {
      "application/vnd.plotly.v1+json": {
       "config": {
        "plotlyServerURL": "https://plot.ly"
       },
       "data": [
        {
         "alignmentgroup": "True",
         "bingroup": "x",
         "hovertemplate": "account_age_hours=%{x}<br>count=%{y}<extra></extra>",
         "legendgroup": "",
         "marker": {
          "color": "#636efa",
          "opacity": 0.5
         },
         "name": "",
         "nbinsx": 25,
         "offsetgroup": "",
         "orientation": "v",
         "showlegend": false,
         "type": "histogram",
         "x": [
          -5,
          -4,
          -3,
          -2,
          -1,
          0,
          1,
          2,
          3,
          4,
          5,
          7,
          8,
          9,
          10,
          11,
          12,
          13,
          14,
          15,
          16,
          18,
          19,
          21,
          22,
          24,
          25,
          28,
          31,
          32,
          34,
          37,
          38,
          40,
          45,
          48,
          50,
          61,
          62,
          63,
          64,
          65,
          71,
          73,
          84,
          94,
          95,
          114,
          122,
          135,
          140,
          166,
          168,
          193,
          212,
          228,
          252,
          274,
          284,
          289,
          308,
          321,
          335,
          343,
          355,
          360,
          363,
          408,
          419,
          471,
          493,
          500,
          505,
          515,
          538,
          540,
          567,
          584,
          587,
          596,
          626,
          638,
          642,
          662,
          849,
          957,
          961,
          1243,
          1262,
          1282,
          1299,
          1311,
          1415,
          1450,
          1478,
          1521,
          1532,
          1533,
          1573,
          1697,
          1718,
          1885,
          1886,
          1933,
          1937,
          1939,
          2004,
          2012,
          2032,
          2083,
          2084,
          2085,
          2111,
          2150,
          2220,
          2233,
          2244,
          2265,
          2298,
          2321,
          2322,
          2387,
          2460,
          2775,
          2803,
          2919,
          2942,
          3068,
          3159,
          3540,
          3852,
          3958,
          3972,
          4764,
          4918,
          5508,
          6050,
          6486,
          6571,
          6590,
          6875,
          6880,
          7738,
          7889,
          7961,
          8009,
          8200,
          8523,
          8620,
          8628,
          8678,
          8849,
          9012,
          9045,
          9108,
          9109,
          9140,
          9154,
          9258,
          9545,
          10603,
          10843,
          12011,
          12310,
          12345,
          14137,
          16113,
          17823,
          18661,
          20495,
          24516,
          24923,
          27987,
          28412,
          29965,
          33456,
          33883,
          34626,
          36638,
          37462,
          38439,
          41493,
          42938,
          43978,
          44845,
          46885,
          49384,
          49859,
          52185,
          54264,
          54925,
          55401,
          56750,
          57588,
          61177,
          62517,
          62831,
          63689,
          63953,
          65490,
          65998,
          66420,
          68283,
          71559,
          72588,
          72749,
          75392,
          76046,
          77160,
          77750,
          79116,
          81566,
          81811,
          84179,
          84880,
          85246,
          87475,
          88583,
          89219
         ],
         "xaxis": "x",
         "yaxis": "y"
        }
       ],
       "layout": {
        "barmode": "relative",
        "legend": {
         "tracegroupgap": 0
        },
        "template": {
         "data": {
          "bar": [
           {
            "error_x": {
             "color": "#2a3f5f"
            },
            "error_y": {
             "color": "#2a3f5f"
            },
            "marker": {
             "line": {
              "color": "#E5ECF6",
              "width": 0.5
             }
            },
            "type": "bar"
           }
          ],
          "barpolar": [
           {
            "marker": {
             "line": {
              "color": "#E5ECF6",
              "width": 0.5
             }
            },
            "type": "barpolar"
           }
          ],
          "carpet": [
           {
            "aaxis": {
             "endlinecolor": "#2a3f5f",
             "gridcolor": "white",
             "linecolor": "white",
             "minorgridcolor": "white",
             "startlinecolor": "#2a3f5f"
            },
            "baxis": {
             "endlinecolor": "#2a3f5f",
             "gridcolor": "white",
             "linecolor": "white",
             "minorgridcolor": "white",
             "startlinecolor": "#2a3f5f"
            },
            "type": "carpet"
           }
          ],
          "choropleth": [
           {
            "colorbar": {
             "outlinewidth": 0,
             "ticks": ""
            },
            "type": "choropleth"
           }
          ],
          "contour": [
           {
            "colorbar": {
             "outlinewidth": 0,
             "ticks": ""
            },
            "colorscale": [
             [
              0,
              "#0d0887"
             ],
             [
              0.1111111111111111,
              "#46039f"
             ],
             [
              0.2222222222222222,
              "#7201a8"
             ],
             [
              0.3333333333333333,
              "#9c179e"
             ],
             [
              0.4444444444444444,
              "#bd3786"
             ],
             [
              0.5555555555555556,
              "#d8576b"
             ],
             [
              0.6666666666666666,
              "#ed7953"
             ],
             [
              0.7777777777777778,
              "#fb9f3a"
             ],
             [
              0.8888888888888888,
              "#fdca26"
             ],
             [
              1,
              "#f0f921"
             ]
            ],
            "type": "contour"
           }
          ],
          "contourcarpet": [
           {
            "colorbar": {
             "outlinewidth": 0,
             "ticks": ""
            },
            "type": "contourcarpet"
           }
          ],
          "heatmap": [
           {
            "colorbar": {
             "outlinewidth": 0,
             "ticks": ""
            },
            "colorscale": [
             [
              0,
              "#0d0887"
             ],
             [
              0.1111111111111111,
              "#46039f"
             ],
             [
              0.2222222222222222,
              "#7201a8"
             ],
             [
              0.3333333333333333,
              "#9c179e"
             ],
             [
              0.4444444444444444,
              "#bd3786"
             ],
             [
              0.5555555555555556,
              "#d8576b"
             ],
             [
              0.6666666666666666,
              "#ed7953"
             ],
             [
              0.7777777777777778,
              "#fb9f3a"
             ],
             [
              0.8888888888888888,
              "#fdca26"
             ],
             [
              1,
              "#f0f921"
             ]
            ],
            "type": "heatmap"
           }
          ],
          "heatmapgl": [
           {
            "colorbar": {
             "outlinewidth": 0,
             "ticks": ""
            },
            "colorscale": [
             [
              0,
              "#0d0887"
             ],
             [
              0.1111111111111111,
              "#46039f"
             ],
             [
              0.2222222222222222,
              "#7201a8"
             ],
             [
              0.3333333333333333,
              "#9c179e"
             ],
             [
              0.4444444444444444,
              "#bd3786"
             ],
             [
              0.5555555555555556,
              "#d8576b"
             ],
             [
              0.6666666666666666,
              "#ed7953"
             ],
             [
              0.7777777777777778,
              "#fb9f3a"
             ],
             [
              0.8888888888888888,
              "#fdca26"
             ],
             [
              1,
              "#f0f921"
             ]
            ],
            "type": "heatmapgl"
           }
          ],
          "histogram": [
           {
            "marker": {
             "colorbar": {
              "outlinewidth": 0,
              "ticks": ""
             }
            },
            "type": "histogram"
           }
          ],
          "histogram2d": [
           {
            "colorbar": {
             "outlinewidth": 0,
             "ticks": ""
            },
            "colorscale": [
             [
              0,
              "#0d0887"
             ],
             [
              0.1111111111111111,
              "#46039f"
             ],
             [
              0.2222222222222222,
              "#7201a8"
             ],
             [
              0.3333333333333333,
              "#9c179e"
             ],
             [
              0.4444444444444444,
              "#bd3786"
             ],
             [
              0.5555555555555556,
              "#d8576b"
             ],
             [
              0.6666666666666666,
              "#ed7953"
             ],
             [
              0.7777777777777778,
              "#fb9f3a"
             ],
             [
              0.8888888888888888,
              "#fdca26"
             ],
             [
              1,
              "#f0f921"
             ]
            ],
            "type": "histogram2d"
           }
          ],
          "histogram2dcontour": [
           {
            "colorbar": {
             "outlinewidth": 0,
             "ticks": ""
            },
            "colorscale": [
             [
              0,
              "#0d0887"
             ],
             [
              0.1111111111111111,
              "#46039f"
             ],
             [
              0.2222222222222222,
              "#7201a8"
             ],
             [
              0.3333333333333333,
              "#9c179e"
             ],
             [
              0.4444444444444444,
              "#bd3786"
             ],
             [
              0.5555555555555556,
              "#d8576b"
             ],
             [
              0.6666666666666666,
              "#ed7953"
             ],
             [
              0.7777777777777778,
              "#fb9f3a"
             ],
             [
              0.8888888888888888,
              "#fdca26"
             ],
             [
              1,
              "#f0f921"
             ]
            ],
            "type": "histogram2dcontour"
           }
          ],
          "mesh3d": [
           {
            "colorbar": {
             "outlinewidth": 0,
             "ticks": ""
            },
            "type": "mesh3d"
           }
          ],
          "parcoords": [
           {
            "line": {
             "colorbar": {
              "outlinewidth": 0,
              "ticks": ""
             }
            },
            "type": "parcoords"
           }
          ],
          "pie": [
           {
            "automargin": true,
            "type": "pie"
           }
          ],
          "scatter": [
           {
            "marker": {
             "colorbar": {
              "outlinewidth": 0,
              "ticks": ""
             }
            },
            "type": "scatter"
           }
          ],
          "scatter3d": [
           {
            "line": {
             "colorbar": {
              "outlinewidth": 0,
              "ticks": ""
             }
            },
            "marker": {
             "colorbar": {
              "outlinewidth": 0,
              "ticks": ""
             }
            },
            "type": "scatter3d"
           }
          ],
          "scattercarpet": [
           {
            "marker": {
             "colorbar": {
              "outlinewidth": 0,
              "ticks": ""
             }
            },
            "type": "scattercarpet"
           }
          ],
          "scattergeo": [
           {
            "marker": {
             "colorbar": {
              "outlinewidth": 0,
              "ticks": ""
             }
            },
            "type": "scattergeo"
           }
          ],
          "scattergl": [
           {
            "marker": {
             "colorbar": {
              "outlinewidth": 0,
              "ticks": ""
             }
            },
            "type": "scattergl"
           }
          ],
          "scattermapbox": [
           {
            "marker": {
             "colorbar": {
              "outlinewidth": 0,
              "ticks": ""
             }
            },
            "type": "scattermapbox"
           }
          ],
          "scatterpolar": [
           {
            "marker": {
             "colorbar": {
              "outlinewidth": 0,
              "ticks": ""
             }
            },
            "type": "scatterpolar"
           }
          ],
          "scatterpolargl": [
           {
            "marker": {
             "colorbar": {
              "outlinewidth": 0,
              "ticks": ""
             }
            },
            "type": "scatterpolargl"
           }
          ],
          "scatterternary": [
           {
            "marker": {
             "colorbar": {
              "outlinewidth": 0,
              "ticks": ""
             }
            },
            "type": "scatterternary"
           }
          ],
          "surface": [
           {
            "colorbar": {
             "outlinewidth": 0,
             "ticks": ""
            },
            "colorscale": [
             [
              0,
              "#0d0887"
             ],
             [
              0.1111111111111111,
              "#46039f"
             ],
             [
              0.2222222222222222,
              "#7201a8"
             ],
             [
              0.3333333333333333,
              "#9c179e"
             ],
             [
              0.4444444444444444,
              "#bd3786"
             ],
             [
              0.5555555555555556,
              "#d8576b"
             ],
             [
              0.6666666666666666,
              "#ed7953"
             ],
             [
              0.7777777777777778,
              "#fb9f3a"
             ],
             [
              0.8888888888888888,
              "#fdca26"
             ],
             [
              1,
              "#f0f921"
             ]
            ],
            "type": "surface"
           }
          ],
          "table": [
           {
            "cells": {
             "fill": {
              "color": "#EBF0F8"
             },
             "line": {
              "color": "white"
             }
            },
            "header": {
             "fill": {
              "color": "#C8D4E3"
             },
             "line": {
              "color": "white"
             }
            },
            "type": "table"
           }
          ]
         },
         "layout": {
          "annotationdefaults": {
           "arrowcolor": "#2a3f5f",
           "arrowhead": 0,
           "arrowwidth": 1
          },
          "coloraxis": {
           "colorbar": {
            "outlinewidth": 0,
            "ticks": ""
           }
          },
          "colorscale": {
           "diverging": [
            [
             0,
             "#8e0152"
            ],
            [
             0.1,
             "#c51b7d"
            ],
            [
             0.2,
             "#de77ae"
            ],
            [
             0.3,
             "#f1b6da"
            ],
            [
             0.4,
             "#fde0ef"
            ],
            [
             0.5,
             "#f7f7f7"
            ],
            [
             0.6,
             "#e6f5d0"
            ],
            [
             0.7,
             "#b8e186"
            ],
            [
             0.8,
             "#7fbc41"
            ],
            [
             0.9,
             "#4d9221"
            ],
            [
             1,
             "#276419"
            ]
           ],
           "sequential": [
            [
             0,
             "#0d0887"
            ],
            [
             0.1111111111111111,
             "#46039f"
            ],
            [
             0.2222222222222222,
             "#7201a8"
            ],
            [
             0.3333333333333333,
             "#9c179e"
            ],
            [
             0.4444444444444444,
             "#bd3786"
            ],
            [
             0.5555555555555556,
             "#d8576b"
            ],
            [
             0.6666666666666666,
             "#ed7953"
            ],
            [
             0.7777777777777778,
             "#fb9f3a"
            ],
            [
             0.8888888888888888,
             "#fdca26"
            ],
            [
             1,
             "#f0f921"
            ]
           ],
           "sequentialminus": [
            [
             0,
             "#0d0887"
            ],
            [
             0.1111111111111111,
             "#46039f"
            ],
            [
             0.2222222222222222,
             "#7201a8"
            ],
            [
             0.3333333333333333,
             "#9c179e"
            ],
            [
             0.4444444444444444,
             "#bd3786"
            ],
            [
             0.5555555555555556,
             "#d8576b"
            ],
            [
             0.6666666666666666,
             "#ed7953"
            ],
            [
             0.7777777777777778,
             "#fb9f3a"
            ],
            [
             0.8888888888888888,
             "#fdca26"
            ],
            [
             1,
             "#f0f921"
            ]
           ]
          },
          "colorway": [
           "#636efa",
           "#EF553B",
           "#00cc96",
           "#ab63fa",
           "#FFA15A",
           "#19d3f3",
           "#FF6692",
           "#B6E880",
           "#FF97FF",
           "#FECB52"
          ],
          "font": {
           "color": "#2a3f5f"
          },
          "geo": {
           "bgcolor": "white",
           "lakecolor": "white",
           "landcolor": "#E5ECF6",
           "showlakes": true,
           "showland": true,
           "subunitcolor": "white"
          },
          "hoverlabel": {
           "align": "left"
          },
          "hovermode": "closest",
          "mapbox": {
           "style": "light"
          },
          "paper_bgcolor": "white",
          "plot_bgcolor": "#E5ECF6",
          "polar": {
           "angularaxis": {
            "gridcolor": "white",
            "linecolor": "white",
            "ticks": ""
           },
           "bgcolor": "#E5ECF6",
           "radialaxis": {
            "gridcolor": "white",
            "linecolor": "white",
            "ticks": ""
           }
          },
          "scene": {
           "xaxis": {
            "backgroundcolor": "#E5ECF6",
            "gridcolor": "white",
            "gridwidth": 2,
            "linecolor": "white",
            "showbackground": true,
            "ticks": "",
            "zerolinecolor": "white"
           },
           "yaxis": {
            "backgroundcolor": "#E5ECF6",
            "gridcolor": "white",
            "gridwidth": 2,
            "linecolor": "white",
            "showbackground": true,
            "ticks": "",
            "zerolinecolor": "white"
           },
           "zaxis": {
            "backgroundcolor": "#E5ECF6",
            "gridcolor": "white",
            "gridwidth": 2,
            "linecolor": "white",
            "showbackground": true,
            "ticks": "",
            "zerolinecolor": "white"
           }
          },
          "shapedefaults": {
           "line": {
            "color": "#2a3f5f"
           }
          },
          "ternary": {
           "aaxis": {
            "gridcolor": "white",
            "linecolor": "white",
            "ticks": ""
           },
           "baxis": {
            "gridcolor": "white",
            "linecolor": "white",
            "ticks": ""
           },
           "bgcolor": "#E5ECF6",
           "caxis": {
            "gridcolor": "white",
            "linecolor": "white",
            "ticks": ""
           }
          },
          "title": {
           "x": 0.05
          },
          "xaxis": {
           "automargin": true,
           "gridcolor": "white",
           "linecolor": "white",
           "ticks": "",
           "title": {
            "standoff": 15
           },
           "zerolinecolor": "white",
           "zerolinewidth": 2
          },
          "yaxis": {
           "automargin": true,
           "gridcolor": "white",
           "linecolor": "white",
           "ticks": "",
           "title": {
            "standoff": 15
           },
           "zerolinecolor": "white",
           "zerolinewidth": 2
          }
         }
        },
        "title": {
         "text": "Distribution of Followers by Account Age (hours)"
        },
        "xaxis": {
         "anchor": "y",
         "domain": [
          0,
          1
         ],
         "title": {
          "text": "account_age_hours"
         }
        },
        "yaxis": {
         "anchor": "x",
         "domain": [
          0,
          1
         ],
         "title": {
          "text": "count"
         }
        }
       }
      }
     },
     "metadata": {}
    }
   ],
   "source": [
    "## Histogram\n",
    "fig = px.histogram(\n",
    "    df_mean,\n",
    "    x = 'account_age_hours',\n",
    "    title = 'Distribution of Followers by Account Age (hours)',\n",
    "    opacity = 0.5,\n",
    "    nbins = 25\n",
    ")\n",
    "\n",
    "fig.show()"
   ]
  },
  {
   "cell_type": "code",
   "execution_count": null,
   "metadata": {},
   "outputs": [],
   "source": []
  }
 ],
 "metadata": {
  "language_info": {
   "codemirror_mode": {
    "name": "ipython",
    "version": 3
   },
   "file_extension": ".py",
   "mimetype": "text/x-python",
   "name": "python",
   "nbconvert_exporter": "python",
   "pygments_lexer": "ipython3",
   "version": "3.8.3-final"
  },
  "orig_nbformat": 2,
  "kernelspec": {
   "name": "python38332bit74267a286544417693a395f8b01a1290",
   "display_name": "Python 3.8.3 32-bit"
  }
 },
 "nbformat": 4,
 "nbformat_minor": 2
}